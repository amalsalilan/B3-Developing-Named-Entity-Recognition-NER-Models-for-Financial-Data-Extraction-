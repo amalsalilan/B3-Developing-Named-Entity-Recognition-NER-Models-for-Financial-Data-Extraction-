{
  "nbformat": 4,
  "nbformat_minor": 0,
  "metadata": {
    "colab": {
      "provenance": []
    },
    "kernelspec": {
      "name": "python3",
      "display_name": "Python 3"
    },
    "language_info": {
      "name": "python"
    }
  },
  "cells": [
    {
      "cell_type": "code",
      "execution_count": null,
      "metadata": {
        "colab": {
          "base_uri": "https://localhost:8080/"
        },
        "id": "3KRXklW2xjBW",
        "outputId": "1d58988a-eed4-47c9-95d7-8ccb03848ba5"
      },
      "outputs": [
        {
          "output_type": "stream",
          "name": "stdout",
          "text": [
            "{'text': 'Apple Inc. (AAPL) announced a 15% increase in revenue for Q3 2025, totaling $95 billion. \\nCEO Tim Cook stated that sales of the iPhone 15 and MacBook Pro were the main contributors. \\nThe company expects continued growth in Europe and Asia-Pacific regions over the next fiscal year.', 'entities': []}\n"
          ]
        }
      ],
      "source": [
        "import spacy\n",
        "from spacy.tokens import Span\n",
        "\n",
        "# Load English model\n",
        "nlp = spacy.blank(\"en\")\n",
        "\n",
        "# Sample text\n",
        "text = \"\"\"Apple Inc. (AAPL) announced a 15% increase in revenue for Q3 2025, totaling $95 billion.\n",
        "CEO Tim Cook stated that sales of the iPhone 15 and MacBook Pro were the main contributors.\n",
        "The company expects continued growth in Europe and Asia-Pacific regions over the next fiscal year.\"\"\"\n",
        "\n",
        "doc = nlp(text)\n",
        "\n",
        "# Manually define entities (start_char, end_char, label)\n",
        "entities = [\n",
        "    (0, 9, \"ORG\"),\n",
        "    (11, 15, \"STOCK\"),\n",
        "    (33, 36, \"PERCENTAGE\"),\n",
        "    (63, 70, \"DATE\"),\n",
        "    (81, 91, \"MONEY\"),\n",
        "    (97, 105, \"PEOPLE\"),\n",
        "    (139, 148, \"PRODUCT\"),\n",
        "    (153, 164, \"PRODUCT\"),\n",
        "    (207, 213, \"CONTINENT\"),\n",
        "    (218, 230, \"CONTINENT\"),\n",
        "    (247, 262, \"TIME\")\n",
        "]\n",
        "\n",
        "# Add entities to doc\n",
        "doc.ents = [Span(doc, doc.char_span(start, end).start, doc.char_span(start, end).end, label=label)\n",
        "            for start, end, label in entities if doc.char_span(start, end)]\n",
        "\n",
        "# Print entities\n",
        "for ent in doc.ents:\n",
        "    print(ent.text, ent.label_)\n",
        "\n",
        "# Optional: Convert to JSON-like output\n",
        "output = {\n",
        "    \"text\": text,\n",
        "    \"entities\": [[ent.start_char, ent.end_char, ent.label_] for ent in doc.ents]\n",
        "}\n",
        "\n",
        "print(output)"
      ]
    }
  ]
}