{
  "nbformat": 4,
  "nbformat_minor": 0,
  "metadata": {
    "colab": {
      "provenance": [],
      "gpuType": "T4"
    },
    "kernelspec": {
      "name": "python3",
      "display_name": "Python 3"
    },
    "language_info": {
      "name": "python"
    },
    "accelerator": "GPU"
  },
  "cells": [
    {
      "cell_type": "code",
      "execution_count": 1,
      "metadata": {
        "id": "uY1GpoSu7aMW"
      },
      "outputs": [],
      "source": [
        "! pip install -U spacy -q"
      ]
    },
    {
      "cell_type": "code",
      "source": [
        "\n",
        "!python -m spacy info"
      ],
      "metadata": {
        "id": "dsThVuO685l5",
        "colab": {
          "base_uri": "https://localhost:8080/"
        },
        "outputId": "f34a722c-2ffc-4e49-b961-f43877cc076e"
      },
      "execution_count": 2,
      "outputs": [
        {
          "output_type": "stream",
          "name": "stdout",
          "text": [
            "\u001b[1m\n",
            "============================== Info about spaCy ==============================\u001b[0m\n",
            "\n",
            "spaCy version    3.8.7                         \n",
            "Location         /usr/local/lib/python3.12/dist-packages/spacy\n",
            "Platform         Linux-6.6.105+-x86_64-with-glibc2.35\n",
            "Python version   3.12.12                       \n",
            "Pipelines        en_core_web_sm (3.8.0)        \n",
            "\n"
          ]
        }
      ]
    },
    {
      "cell_type": "code",
      "source": [
        "import spacy\n",
        "from spacy.tokens import DocBin\n",
        "from tqdm import tqdm\n",
        "\n",
        "nlp = spacy.blank(\"en\") # load a new spacy model\n",
        "db = DocBin() # create a DocBin object"
      ],
      "metadata": {
        "id": "CdLCS5Z48_Km"
      },
      "execution_count": 3,
      "outputs": []
    },
    {
      "cell_type": "code",
      "source": [
        "import json\n",
        "f = open('/content/annotations.json')\n",
        "TRAIN_DATA = json.load(f)"
      ],
      "metadata": {
        "id": "1HVmvmk39Faf"
      },
      "execution_count": 5,
      "outputs": []
    },
    {
      "cell_type": "code",
      "source": [
        "TRAIN_DATA"
      ],
      "metadata": {
        "colab": {
          "base_uri": "https://localhost:8080/"
        },
        "id": "t680GofiUVCg",
        "outputId": "17db83a5-6e60-41d9-a6e1-6697e352ac6d"
      },
      "execution_count": 6,
      "outputs": [
        {
          "output_type": "execute_result",
          "data": {
            "text/plain": [
              "{'classes': ['PERSON',\n",
              "  'ORGANISATION',\n",
              "  'DATE',\n",
              "  'LOCATION',\n",
              "  'MONEY',\n",
              "  'DESIGNATION'],\n",
              " 'annotations': [['', {'entities': []}],\n",
              "  ['Company Name: NovaTech Solutions Pvt. Ltd.',\n",
              "   {'entities': [[14, 41, 'ORGANISATION']]}],\n",
              "  ['Financial Year: 2024-2025', {'entities': [[16, 25, 'DATE']]}],\n",
              "  ['Report Date: April 15, 2025', {'entities': [[13, 27, 'DATE']]}],\n",
              "  ['Location: Hyderabad, India', {'entities': [[10, 26, 'LOCATION']]}],\n",
              "  None,\n",
              "  None,\n",
              "  None,\n",
              "  None,\n",
              "  ['NovaTech Solutions Pvt. Ltd. is a technology-based firm specializing in cloud computing, AI-driven analytics, and enterprise software solutions. ',\n",
              "   {'entities': [[0, 18, 'PERSON']]}],\n",
              "  ['During the fiscal year 2024-2025, the company expanded its operations across three new regions: Bengaluru, Chennai, and Pune.',\n",
              "   {'entities': [[23, 32, 'DATE'], [96, 125, 'LOCATION']]}],\n",
              "  None,\n",
              "  None,\n",
              "  None,\n",
              "  None,\n",
              "  ['Total Revenue: ₹125,48,30,000 (INR 125.48 Crores)',\n",
              "   {'entities': [[15, 49, 'MONEY']]}],\n",
              "  ['Revenue from Cloud Services: ₹72,00,00,000',\n",
              "   {'entities': [[29, 42, 'MONEY']]}],\n",
              "  ['Revenue from AI Products: ₹28,30,00,000',\n",
              "   {'entities': [[26, 39, 'MONEY']]}],\n",
              "  ['Revenue from Software Licensing: ₹25,18,30,000',\n",
              "   {'entities': [[33, 46, 'MONEY']]}],\n",
              "  None,\n",
              "  None,\n",
              "  ['- Infosys Technologies Ltd.', {'entities': [[2, 27, 'ORGANISATION']]}],\n",
              "  ['- HDFC Bank', {'entities': [[2, 11, 'ORGANISATION']]}],\n",
              "  ['- Tata Consultancy Services', {'entities': [[2, 27, 'ORGANISATION']]}],\n",
              "  ['- Google Cloud India', {'entities': [[2, 20, 'ORGANISATION']]}],\n",
              "  None,\n",
              "  None,\n",
              "  None,\n",
              "  None,\n",
              "  ['Employee Salaries and Benefits: ₹45,00,00,000',\n",
              "   {'entities': [[32, 45, 'MONEY']]}],\n",
              "  ['Research and Development (R&D): ₹12,50,00,000',\n",
              "   {'entities': [[32, 45, 'MONEY']]}],\n",
              "  ['Marketing and Promotion: ₹5,75,00,000', {'entities': [[25, 37, 'MONEY']]}],\n",
              "  ['Administrative Expenses: ₹8,25,00,000', {'entities': [[25, 37, 'MONEY']]}],\n",
              "  ['Total Operating Expenses: ₹71,50,00,000',\n",
              "   {'entities': [[26, 39, 'MONEY']]}],\n",
              "  None,\n",
              "  None,\n",
              "  None,\n",
              "  None,\n",
              "  ['Gross Profit: ₹53,98,30,000', {'entities': [[14, 27, 'MONEY']]}],\n",
              "  ['Net Profit (After Tax): ₹38,40,20,000', {'entities': [[24, 37, 'MONEY']]}],\n",
              "  ['Tax Paid: ₹8,20,50,000', {'entities': [[10, 22, 'MONEY']]}],\n",
              "  None,\n",
              "  None,\n",
              "  None,\n",
              "  None,\n",
              "  ['Total Assets: ₹210,60,00,000', {'entities': [[14, 28, 'MONEY']]}],\n",
              "  ['Current Assets: ₹98,30,00,000', {'entities': [[16, 29, 'MONEY']]}],\n",
              "  ['Fixed Assets: ₹112,30,00,000', {'entities': [[14, 28, 'MONEY']]}],\n",
              "  ['Liabilities: ₹70,15,00,000', {'entities': [[13, 26, 'MONEY']]}],\n",
              "  None,\n",
              "  None,\n",
              "  None,\n",
              "  None,\n",
              "  ['- Invested ₹5,00,00,000 in a joint venture with AlphaTech Analytics Pvt. Ltd.',\n",
              "   {'entities': [[11, 23, 'MONEY'], [48, 77, 'ORGANISATION']]}],\n",
              "  None,\n",
              "  ['- Partnership agreement signed with Microsoft Azure on March 10, 2025.',\n",
              "   {'entities': [[36, 51, 'ORGANISATION'], [55, 70, 'DATE']]}],\n",
              "  None,\n",
              "  None,\n",
              "  None,\n",
              "  None,\n",
              "  ['The company aims to expand into international markets including Singapore and the UAE by 2026.',\n",
              "   {'entities': [[64, 73, 'LOCATION'],\n",
              "     [82, 85, 'LOCATION'],\n",
              "     [89, 93, 'DATE']]}],\n",
              "  ['Projected revenue growth for FY 2025-2026: 22%',\n",
              "   {'entities': [[32, 41, 'DATE']]}],\n",
              "  None,\n",
              "  None,\n",
              "  None,\n",
              "  None,\n",
              "  None,\n",
              "  None,\n",
              "  ['Audit performed by: Rao & Srinivas Chartered Accountants, Hyderabad.',\n",
              "   {'entities': [[20, 56, 'ORGANISATION'], [58, 68, 'LOCATION']]}],\n",
              "  ['Report approved by: Mr. Rajesh Varma, CFO - NovaTech Solutions Pvt. Ltd.',\n",
              "   {'entities': [[20, 36, 'PERSON'], [38, 72, 'ORGANISATION']]}],\n",
              "  None,\n",
              "  None,\n",
              "  ['Rajesh Varma', {'entities': [[0, 12, 'PERSON']]}],\n",
              "  ['Chief Financial Officer', {'entities': [[0, 23, 'DESIGNATION']]}],\n",
              "  ['NovaTech Solutions Pvt. Ltd.', {'entities': [[0, 27, 'ORGANISATION']]}],\n",
              "  ['Date: April 15, 2025', {'entities': [[6, 20, 'DATE']]}],\n",
              "  None,\n",
              "  ['', {'entities': []}]]}"
            ]
          },
          "metadata": {},
          "execution_count": 6
        }
      ]
    },
    {
      "cell_type": "code",
      "source": [
        "from tqdm import tqdm\n",
        "\n",
        "for item in tqdm(TRAIN_DATA['annotations']):\n",
        "    if item is None or not isinstance(item, (list, tuple)) or len(item) != 2:\n",
        "        print(\"Skipping invalid item:\", item)\n",
        "        continue\n",
        "\n",
        "    text, annot = item\n",
        "    doc = nlp.make_doc(text)\n",
        "    ents = []\n",
        "    for start, end, label in annot.get(\"entities\", []):\n",
        "        span = doc.char_span(start, end, label=label, alignment_mode=\"contract\")\n",
        "        if span is None:\n",
        "            print(\"Skipping entity\")\n",
        "        else:\n",
        "            ents.append(span)\n",
        "    doc.ents = ents\n",
        "    db.add(doc)\n",
        "\n",
        "db.to_disk(\"./training_data.spacy\")\n"
      ],
      "metadata": {
        "id": "MESUTK0P9wiH",
        "colab": {
          "base_uri": "https://localhost:8080/"
        },
        "outputId": "2220cfed-e423-4d99-a2b3-8ca65f26004c"
      },
      "execution_count": 9,
      "outputs": [
        {
          "output_type": "stream",
          "name": "stderr",
          "text": [
            "100%|██████████| 78/78 [00:00<00:00, 7218.79it/s]"
          ]
        },
        {
          "output_type": "stream",
          "name": "stdout",
          "text": [
            "Skipping invalid item: None\n",
            "Skipping invalid item: None\n",
            "Skipping invalid item: None\n",
            "Skipping invalid item: None\n",
            "Skipping invalid item: None\n",
            "Skipping invalid item: None\n",
            "Skipping invalid item: None\n",
            "Skipping invalid item: None\n",
            "Skipping invalid item: None\n",
            "Skipping invalid item: None\n",
            "Skipping invalid item: None\n",
            "Skipping invalid item: None\n",
            "Skipping invalid item: None\n",
            "Skipping invalid item: None\n",
            "Skipping invalid item: None\n",
            "Skipping invalid item: None\n",
            "Skipping invalid item: None\n",
            "Skipping invalid item: None\n",
            "Skipping invalid item: None\n",
            "Skipping invalid item: None\n",
            "Skipping invalid item: None\n",
            "Skipping invalid item: None\n",
            "Skipping invalid item: None\n",
            "Skipping invalid item: None\n",
            "Skipping invalid item: None\n",
            "Skipping invalid item: None\n",
            "Skipping invalid item: None\n",
            "Skipping invalid item: None\n",
            "Skipping invalid item: None\n",
            "Skipping invalid item: None\n",
            "Skipping invalid item: None\n",
            "Skipping invalid item: None\n",
            "Skipping invalid item: None\n",
            "Skipping invalid item: None\n",
            "Skipping invalid item: None\n",
            "Skipping invalid item: None\n",
            "Skipping invalid item: None\n",
            "Skipping invalid item: None\n",
            "Skipping invalid item: None\n",
            "Skipping invalid item: None\n"
          ]
        },
        {
          "output_type": "stream",
          "name": "stderr",
          "text": [
            "\n"
          ]
        }
      ]
    },
    {
      "cell_type": "code",
      "source": [
        "! python -m spacy init config config.cfg --lang en --pipeline ner --optimize efficiency"
      ],
      "metadata": {
        "id": "IbNCEOO99HJ5",
        "colab": {
          "base_uri": "https://localhost:8080/"
        },
        "outputId": "7e5f7d7d-1ce9-4ea0-c022-0289dce182e1"
      },
      "execution_count": 10,
      "outputs": [
        {
          "output_type": "stream",
          "name": "stdout",
          "text": [
            "\u001b[38;5;3m⚠ To generate a more effective transformer-based config (GPU-only),\n",
            "install the spacy-transformers package and re-run this command. The config\n",
            "generated now does not use transformers.\u001b[0m\n",
            "\u001b[38;5;4mℹ Generated config template specific for your use case\u001b[0m\n",
            "- Language: en\n",
            "- Pipeline: ner\n",
            "- Optimize for: efficiency\n",
            "- Hardware: CPU\n",
            "- Transformer: None\n",
            "\u001b[38;5;2m✔ Auto-filled config with all values\u001b[0m\n",
            "\u001b[38;5;2m✔ Saved config\u001b[0m\n",
            "config.cfg\n",
            "You can now add your data and train your pipeline:\n",
            "python -m spacy train config.cfg --paths.train ./train.spacy --paths.dev ./dev.spacy\n"
          ]
        }
      ]
    },
    {
      "cell_type": "code",
      "source": [
        "! python -m spacy train config.cfg --output ./ --paths.train ./training_data.spacy --paths.dev ./training_data.spacy"
      ],
      "metadata": {
        "id": "pAw0_KF89KGS",
        "colab": {
          "base_uri": "https://localhost:8080/"
        },
        "outputId": "d5268da0-0d9c-472f-d23c-9af39c36063a"
      },
      "execution_count": 11,
      "outputs": [
        {
          "output_type": "stream",
          "name": "stdout",
          "text": [
            "\u001b[38;5;4mℹ Saving to output directory: .\u001b[0m\n",
            "\u001b[38;5;4mℹ Using CPU\u001b[0m\n",
            "\u001b[38;5;4mℹ To switch to GPU 0, use the option: --gpu-id 0\u001b[0m\n",
            "\u001b[1m\n",
            "=========================== Initializing pipeline ===========================\u001b[0m\n",
            "\u001b[38;5;2m✔ Initialized pipeline\u001b[0m\n",
            "\u001b[1m\n",
            "============================= Training pipeline =============================\u001b[0m\n",
            "\u001b[38;5;4mℹ Pipeline: ['tok2vec', 'ner']\u001b[0m\n",
            "\u001b[38;5;4mℹ Initial learn rate: 0.001\u001b[0m\n",
            "E    #       LOSS TOK2VEC  LOSS NER  ENTS_F  ENTS_P  ENTS_R  SCORE \n",
            "---  ------  ------------  --------  ------  ------  ------  ------\n",
            "  0       0          0.00     64.19    0.00    0.00    0.00    0.00\n",
            " 57     200         97.84   1973.06   98.04   98.04   98.04    0.98\n",
            "124     400         65.97    220.95   96.08   96.08   96.08    0.96\n",
            "216     600         59.53    284.42   98.04   98.04   98.04    0.98\n",
            "316     800         49.73    258.13   98.04   98.04   98.04    0.98\n",
            "416    1000         91.45    284.51   98.04   98.04   98.04    0.98\n",
            "593    1200         91.39    494.93   98.04   98.04   98.04    0.98\n",
            "793    1400         48.22    551.37   98.04   98.04   98.04    0.98\n",
            "993    1600         90.84    515.92   98.04   98.04   98.04    0.98\n",
            "1193    1800        125.94    572.00   98.04   98.04   98.04    0.98\n",
            "\u001b[38;5;2m✔ Saved pipeline to output directory\u001b[0m\n",
            "model-last\n"
          ]
        }
      ]
    },
    {
      "cell_type": "code",
      "source": [
        "nlp_ner = spacy.load(\"/content/model-best\")"
      ],
      "metadata": {
        "id": "54hyaa7k9L6t"
      },
      "execution_count": 12,
      "outputs": []
    },
    {
      "cell_type": "code",
      "source": [
        "doc = nlp_ner(\"Market analysts at MorganEast Research, based in Singapore, forecast that the Indian digital lending sector will surpass ₹1.8 lakh crore in transaction volume by 2027, with Aurora capturing approximately 6.4% market share.\")"
      ],
      "metadata": {
        "id": "aq37rwnr9N2m"
      },
      "execution_count": 13,
      "outputs": []
    },
    {
      "cell_type": "code",
      "source": [
        "spacy.displacy.render(doc, style=\"ent\", jupyter=True) # display in Jupyter"
      ],
      "metadata": {
        "id": "TbnhfIhe9WF6",
        "colab": {
          "base_uri": "https://localhost:8080/",
          "height": 87
        },
        "outputId": "6a1fe551-2ece-4266-e4d3-7b14d071ed9e"
      },
      "execution_count": 14,
      "outputs": [
        {
          "output_type": "display_data",
          "data": {
            "text/plain": [
              "<IPython.core.display.HTML object>"
            ],
            "text/html": [
              "<span class=\"tex2jax_ignore\"><div class=\"entities\" style=\"line-height: 2.5; direction: ltr\">Market analysts at \n",
              "<mark class=\"entity\" style=\"background: #ddd; padding: 0.45em 0.6em; margin: 0 0.25em; line-height: 1; border-radius: 0.35em;\">\n",
              "    MorganEast Research, based in Singapore, forecast\n",
              "    <span style=\"font-size: 0.8em; font-weight: bold; line-height: 1; border-radius: 0.35em; vertical-align: middle; margin-left: 0.5rem\">ORGANISATION</span>\n",
              "</mark>\n",
              " that the Indian digital lending sector will surpass \n",
              "<mark class=\"entity\" style=\"background: #e4e7d2; padding: 0.45em 0.6em; margin: 0 0.25em; line-height: 1; border-radius: 0.35em;\">\n",
              "    ₹1.8\n",
              "    <span style=\"font-size: 0.8em; font-weight: bold; line-height: 1; border-radius: 0.35em; vertical-align: middle; margin-left: 0.5rem\">MONEY</span>\n",
              "</mark>\n",
              " lakh crore in transaction volume by \n",
              "<mark class=\"entity\" style=\"background: #ddd; padding: 0.45em 0.6em; margin: 0 0.25em; line-height: 1; border-radius: 0.35em;\">\n",
              "    2027, with Aurora\n",
              "    <span style=\"font-size: 0.8em; font-weight: bold; line-height: 1; border-radius: 0.35em; vertical-align: middle; margin-left: 0.5rem\">LOCATION</span>\n",
              "</mark>\n",
              " capturing approximately 6.4% market share.</div></span>"
            ]
          },
          "metadata": {}
        }
      ]
    },
    {
      "cell_type": "code",
      "source": [],
      "metadata": {
        "id": "G7JQwczmbKGD"
      },
      "execution_count": null,
      "outputs": []
    }
  ]
}