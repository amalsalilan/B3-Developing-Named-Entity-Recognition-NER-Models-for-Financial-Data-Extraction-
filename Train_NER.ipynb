{
  "nbformat": 4,
  "nbformat_minor": 0,
  "metadata": {
    "colab": {
      "provenance": []
    },
    "kernelspec": {
      "name": "python3",
      "display_name": "Python 3"
    },
    "language_info": {
      "name": "python"
    }
  },
  "cells": [
    {
      "cell_type": "code",
      "execution_count": 1,
      "metadata": {
        "id": "4Y3EHlZCYRFC"
      },
      "outputs": [],
      "source": [
        "! pip install -U spacy -q"
      ]
    },
    {
      "cell_type": "code",
      "source": [
        "!python -m spacy info"
      ],
      "metadata": {
        "colab": {
          "base_uri": "https://localhost:8080/"
        },
        "id": "u-n_RWivYaaI",
        "outputId": "6d3d0786-c4a5-4e8f-deb9-eeb310cbfb3c"
      },
      "execution_count": 2,
      "outputs": [
        {
          "output_type": "stream",
          "name": "stdout",
          "text": [
            "\u001b[1m\n",
            "============================== Info about spaCy ==============================\u001b[0m\n",
            "\n",
            "spaCy version    3.8.7                         \n",
            "Location         /usr/local/lib/python3.12/dist-packages/spacy\n",
            "Platform         Linux-6.6.105+-x86_64-with-glibc2.35\n",
            "Python version   3.12.12                       \n",
            "Pipelines        en_core_web_sm (3.8.0)        \n",
            "\n"
          ]
        }
      ]
    },
    {
      "cell_type": "code",
      "source": [
        "import spacy\n",
        "from spacy.tokens import DocBin\n",
        "from tqdm import tqdm\n",
        "\n",
        "nlp = spacy.blank(\"en\")\n",
        "db = DocBin()"
      ],
      "metadata": {
        "id": "FLdP37XWYlvX"
      },
      "execution_count": 3,
      "outputs": []
    },
    {
      "cell_type": "code",
      "source": [
        "import json\n",
        "f = open('/content/annotations.json')\n",
        "TRAIN_DATA = json.load(f)"
      ],
      "metadata": {
        "id": "pSN2m-UkYq27"
      },
      "execution_count": 4,
      "outputs": []
    },
    {
      "cell_type": "code",
      "source": [
        "TRAIN_DATA"
      ],
      "metadata": {
        "colab": {
          "base_uri": "https://localhost:8080/"
        },
        "id": "9A65RsyTY7O5",
        "outputId": "70a39c43-3e43-4d4b-d540-192d331466a2"
      },
      "execution_count": 5,
      "outputs": [
        {
          "output_type": "execute_result",
          "data": {
            "text/plain": [
              "{'classes': ['ORG',\n",
              "  'PEOPLE',\n",
              "  'MONEY',\n",
              "  'STOCK',\n",
              "  'PERCENTAGE',\n",
              "  'DATE',\n",
              "  'COUNTRY',\n",
              "  'FINANCIAL ENTITIES',\n",
              "  'CONTINENT',\n",
              "  'NATURAL NUMBERS',\n",
              "  'EVENT',\n",
              "  'PRODUCT',\n",
              "  'TIME'],\n",
              " 'annotations': [['Bitcoin’s price surged by 18% in the past week, breaking the $45,000 mark after news that Tesla Inc. (TSLA) has begun accepting cryptocurrency for vehicle purchases. The announcement sent shockwaves through the market, with other major companies like Square Inc. (SQ) and PayPal (PYPL) also signaling interest in integrating Bitcoin payments. Analysts predict that Bitcoin could rise another 10% by the end of Q4 2025 if institutional adoption continues to increase.\\r',\n",
              "   {'entities': [[0, 9, 'FINANCIAL ENTITIES'],\n",
              "     [26, 29, 'PERCENTAGE'],\n",
              "     [61, 68, 'MONEY'],\n",
              "     [90, 107, 'ORG'],\n",
              "     [128, 142, 'FINANCIAL ENTITIES'],\n",
              "     [251, 267, 'ORG'],\n",
              "     [272, 284, 'ORG'],\n",
              "     [325, 332, 'FINANCIAL ENTITIES'],\n",
              "     [392, 395, 'PERCENTAGE'],\n",
              "     [410, 417, 'DATE']]}],\n",
              "  ['\\r', {'entities': []}],\n",
              "  ['The U.S. Department of the Treasury issued a new $30 billion 10-year Treasury bond, with a yield of 3.25%, aimed at funding the Biden administration’s infrastructure plan. The bond’s issuance was met with strong demand from international investors, particularly from Europe and Asia. Treasury Secretary Janet Yellen stated that the funds would be used to modernize U.S. highways, bridges, and energy systems over the next decade.\\r',\n",
              "   {'entities': [[4, 35, 'ORG'],\n",
              "     [49, 60, 'MONEY'],\n",
              "     [100, 105, 'PERCENTAGE'],\n",
              "     [128, 133, 'PEOPLE'],\n",
              "     [267, 273, 'CONTINENT'],\n",
              "     [278, 283, 'CONTINENT'],\n",
              "     [303, 315, 'PEOPLE'],\n",
              "     [365, 369, 'COUNTRY']]}],\n",
              "  None,\n",
              "  ['In a surprise move, the Bank of England (BoE) raised its key interest rate by 25 basis points to 5.0% on June 25, 2025, due to concerns over rising inflation in the UK. The decision came after the Consumer Price Index (CPI) showed a 4.2% year-over-year increase in May. UK inflation is expected to remain above target for the rest of 2025, leading analysts to speculate further rate hikes in the coming months.\\r',\n",
              "   {'entities': [[24, 45, 'ORG'],\n",
              "     [78, 80, 'NATURAL NUMBERS'],\n",
              "     [97, 101, 'PERCENTAGE'],\n",
              "     [105, 118, 'DATE'],\n",
              "     [165, 168, 'COUNTRY'],\n",
              "     [233, 237, 'PERCENTAGE'],\n",
              "     [265, 269, 'DATE'],\n",
              "     [270, 272, 'COUNTRY'],\n",
              "     [334, 338, 'DATE']]}],\n",
              "  None,\n",
              "  ['Ethereum (ETH) has outperformed Bitcoin (BTC) in recent weeks, rising by 24% as the Ethereum blockchain undergoes significant upgrades aimed at improving scalability and reducing transaction costs. With Ethereum 2.0 set to launch in Q1 2026, experts believe the cryptocurrency could surpass Bitcoin in market capitalization by the end of 2026 if its network upgrades are successful. The ETH/USD pair reached $3,500 last week, up from $2,800 at the start of May.\\r',\n",
              "   {'entities': [[0, 14, 'FINANCIAL ENTITIES'],\n",
              "     [32, 45, 'FINANCIAL ENTITIES'],\n",
              "     [73, 76, 'PERCENTAGE'],\n",
              "     [84, 92, 'FINANCIAL ENTITIES'],\n",
              "     [233, 240, 'DATE'],\n",
              "     [262, 276, 'FINANCIAL ENTITIES'],\n",
              "     [291, 298, 'FINANCIAL ENTITIES'],\n",
              "     [338, 342, 'DATE'],\n",
              "     [408, 414, 'MONEY'],\n",
              "     [434, 440, 'MONEY'],\n",
              "     [457, 460, 'DATE']]}],\n",
              "  None,\n",
              "  ['The European Union (EU) announced a €750 billion economic recovery package to help member states bounce back from the COVID-19 pandemic. The fund, called NextGenerationEU, will be distributed over the next five years, with the largest portion allocated to Italy (€200 billion) and Spain (€140 billion). The funds will focus on digitalization and green energy projects, with an emphasis on reducing the EU’s reliance on fossil fuels.\\r',\n",
              "   {'entities': [[118, 126, 'EVENT'],\n",
              "     [206, 216, 'DATE'],\n",
              "     [256, 261, 'COUNTRY'],\n",
              "     [263, 275, 'MONEY'],\n",
              "     [281, 286, 'COUNTRY'],\n",
              "     [288, 300, 'MONEY'],\n",
              "     [402, 406, 'COUNTRY']]}],\n",
              "  None,\n",
              "  ['Goldman Sachs (GS) has upgraded its 2025 forecast for the U.S. stock market, predicting that the S&P 500 will rise by 7% in the next 12 months. The firm’s analysts cited strong earnings growth in the technology sector, particularly for companies like Amazon (AMZN) and Microsoft (MSFT). Despite concerns about inflation, Goldman Sachs believes that consumer spending will remain robust, especially in the second half of 2025.\\r',\n",
              "   {'entities': [[0, 18, 'ORG'],\n",
              "     [36, 40, 'DATE'],\n",
              "     [58, 62, 'COUNTRY'],\n",
              "     [97, 104, 'FINANCIAL ENTITIES'],\n",
              "     [118, 120, 'PERCENTAGE'],\n",
              "     [133, 143, 'DATE'],\n",
              "     [251, 264, 'ORG'],\n",
              "     [269, 285, 'ORG'],\n",
              "     [321, 334, 'ORG'],\n",
              "     [420, 424, 'DATE']]}],\n",
              "  None,\n",
              "  ['The Indian government announced a new ₹1 trillion stimulus package aimed at boosting the manufacturing sector, particularly in the electronics and automotive industries. Prime Minister Narendra Modi stated that the government will focus on infrastructure projects, including the construction of new highways and factories in rural areas. The package is expected to create over 1 million jobs by 2027 and will be partially funded through bonds issued by the Reserve Bank of India.\\r',\n",
              "   {'entities': [[4, 10, 'COUNTRY'],\n",
              "     [38, 49, 'MONEY'],\n",
              "     [185, 198, 'PEOPLE'],\n",
              "     [377, 378, 'NATURAL NUMBERS'],\n",
              "     [395, 399, 'DATE'],\n",
              "     [457, 478, 'ORG']]}],\n",
              "  None,\n",
              "  ['Facebook (Meta) has launched a new feature allowing businesses to accept cryptocurrency payments for services via Facebook Pay. The social media giant announced that it will support both Bitcoin (BTC) and Ethereum (ETH), marking its first significant step into the crypto space. Meta’s stock (META) rose by 3% following the announcement, with investors reacting positively to the potential for increased revenue streams.\\r',\n",
              "   {'entities': [[0, 15, 'ORG'],\n",
              "     [73, 87, 'FINANCIAL ENTITIES'],\n",
              "     [114, 122, 'ORG'],\n",
              "     [187, 200, 'FINANCIAL ENTITIES'],\n",
              "     [205, 219, 'FINANCIAL ENTITIES'],\n",
              "     [279, 285, 'ORG'],\n",
              "     [307, 309, 'ORG']]}],\n",
              "  None,\n",
              "  ['The International Monetary Fund (IMF) has raised its global growth forecast for 2025 to 4.2%, citing a strong recovery in emerging markets like India and China. However, the IMF warned that high debt levels in developed economies could lead to slower recovery in regions like Europe and the U.S. IMF Chief Kristalina Georgieva noted that inflation in the U.S. and Europe remains a significant risk to the global economy.\\r',\n",
              "   {'entities': [[0, 37, 'ORG'],\n",
              "     [80, 84, 'DATE'],\n",
              "     [88, 92, 'PERCENTAGE'],\n",
              "     [144, 149, 'COUNTRY'],\n",
              "     [154, 160, 'COUNTRY'],\n",
              "     [174, 177, 'COUNTRY'],\n",
              "     [276, 282, 'CONTINENT'],\n",
              "     [291, 295, 'COUNTRY'],\n",
              "     [306, 326, 'PEOPLE'],\n",
              "     [355, 359, 'CONTINENT'],\n",
              "     [364, 370, 'CONTINENT']]}],\n",
              "  None,\n",
              "  ['Tesla Inc. (TSLA) is facing increasing competition from Chinese electric vehicle (EV) manufacturers, with BYD and NIO reporting strong sales in Q1 2025. Tesla’s global market share in the EV sector dropped from 20% in 2024 to 16% in 2025, as more consumers in Europe and Asia opt for local brands. In response, Tesla announced plans to lower prices on its Model 3 and Model Y vehicles by 8% across several global markets.\\r',\n",
              "   {'entities': [[0, 17, 'ORG'],\n",
              "     [144, 152, 'DATE'],\n",
              "     [153, 160, 'ORG'],\n",
              "     [211, 214, 'PERCENTAGE'],\n",
              "     [218, 222, 'DATE'],\n",
              "     [226, 229, 'PERCENTAGE'],\n",
              "     [233, 237, 'DATE'],\n",
              "     [260, 266, 'CONTINENT'],\n",
              "     [271, 275, 'CONTINENT'],\n",
              "     [311, 316, 'ORG'],\n",
              "     [356, 363, 'PRODUCT'],\n",
              "     [368, 375, 'PRODUCT'],\n",
              "     [388, 390, 'PERCENTAGE']]}],\n",
              "  None,\n",
              "  ['The U.S. government plans to introduce a new set of green bonds, worth $15 billion, aimed at financing climate change mitigation projects. The bonds, which will be issued in late 2025, will focus on renewable energy infrastructure and carbon capture technologies. Treasury Secretary Janet Yellen confirmed that the bonds would be sold with a 2.5% yield and are expected to attract strong demand from institutional investors.\\r',\n",
              "   {'entities': [[4, 8, 'COUNTRY'],\n",
              "     [52, 63, 'FINANCIAL ENTITIES'],\n",
              "     [71, 82, 'MONEY'],\n",
              "     [179, 183, 'DATE'],\n",
              "     [283, 295, 'PEOPLE'],\n",
              "     [342, 346, 'PERCENTAGE']]}],\n",
              "  None,\n",
              "  ['In a move to boost trade relations, China has signed a bilateral trade agreement with the United Arab Emirates (UAE), valued at $20 billion. The deal, announced during the G20 summit in Dubai, will focus on energy cooperation, technology sharing, and infrastructure development. The agreement is expected to create thousands of jobs in both countries, especially in the renewable energy and tech sectors.\\r',\n",
              "   {'entities': [[36, 41, 'COUNTRY'],\n",
              "     [90, 116, 'COUNTRY'],\n",
              "     [128, 140, 'MONEY'],\n",
              "     [172, 182, 'EVENT'],\n",
              "     [186, 191, 'COUNTRY']]}],\n",
              "  None,\n",
              "  ['The World Bank announced a $500 million loan to Pakistan to help finance infrastructure projects and promote economic growth in the country. The loan is part of a larger $3 billion package aimed at improving roads, bridges, and energy systems. Pakistan’s Finance Minister, Ishaq Dar, stated that the loan would help the country meet its sustainable development goals and create over 200,000 jobs.\\r',\n",
              "   {'entities': [[0, 14, 'ORG'],\n",
              "     [27, 39, 'ORG'],\n",
              "     [48, 56, 'COUNTRY'],\n",
              "     [170, 180, 'MONEY'],\n",
              "     [244, 254, 'COUNTRY'],\n",
              "     [273, 282, 'COUNTRY'],\n",
              "     [383, 390, 'NATURAL NUMBERS']]}],\n",
              "  None,\n",
              "  ['Chevron Corporation (CVX) is planning to invest $15 billion in renewable energy projects over the next five years, marking a significant shift towards clean energy. The company aims to reduce its carbon footprint and increase its renewable energy capacity by 30% by 2030. Chevron’s stock rose by 2% following the announcement, reflecting investor confidence in its transition to cleaner energy sources.\\r',\n",
              "   {'entities': [[0, 25, 'ORG'],\n",
              "     [103, 113, 'DATE'],\n",
              "     [259, 261, 'PERCENTAGE'],\n",
              "     [266, 271, 'DATE'],\n",
              "     [296, 298, 'PERCENTAGE']]}],\n",
              "  None,\n",
              "  ['The Bank of Japan (BOJ) has decided to extend its ultra-loose monetary policy, keeping interest rates at -0.1% through 2025, in an effort to combat deflation. Despite concerns over rising inflation globally, the BOJ stated that Japan’s economic recovery remains fragile. The yen weakened slightly against the dollar following the announcement, dropping by 0.2% in afternoon trading.\\r',\n",
              "   {'entities': [[0, 23, 'ORG'],\n",
              "     [105, 110, 'ORG'],\n",
              "     [119, 123, 'DATE'],\n",
              "     [212, 215, 'ORG'],\n",
              "     [228, 235, 'COUNTRY'],\n",
              "     [356, 360, 'PERCENTAGE'],\n",
              "     [364, 373, 'TIME']]}],\n",
              "  None,\n",
              "  ['In its latest earnings report, Apple Inc. (AAPL) surpassed expectations with a 20% increase in revenue, totaling $101.5 billion for Q4 2025. The company’s CEO, Tim Cook, announced that global sales of the iPhone 15 were a major contributor to the growth. Apple’s performance was particularly strong in the Asia-Pacific region, where sales grew by 25%. Following the report, the stock rose by 5% in after-hours trading, marking a new all-time high.\\r',\n",
              "   {'entities': [[31, 41, 'ORG'],\n",
              "     [79, 82, 'PERCENTAGE'],\n",
              "     [113, 127, 'MONEY'],\n",
              "     [132, 140, 'DATE'],\n",
              "     [160, 168, 'PEOPLE'],\n",
              "     [205, 214, 'PRODUCT'],\n",
              "     [255, 262, 'PRODUCT'],\n",
              "     [306, 318, 'CONTINENT'],\n",
              "     [347, 350, 'CONTINENT'],\n",
              "     [392, 394, 'CONTINENT'],\n",
              "     [398, 409, 'TIME']]}],\n",
              "  None,\n",
              "  ['The Federal Reserve raised interest rates by 50 basis points in its meeting on May 23, 2025, bringing the federal funds rate to 5.5%. Chair Jerome Powell stated that this decision was made in response to persistent inflationary pressures across the U.S. economy. Financial markets reacted with volatility, with the S&P 500 index dropping by 2% in the following days. Some analysts expect further rate hikes throughout the rest of 2025.\\r',\n",
              "   {'entities': [[0, 19, 'ORG'],\n",
              "     [45, 47, 'NATURAL NUMBERS'],\n",
              "     [79, 91, 'DATE'],\n",
              "     [128, 132, 'PERCENTAGE'],\n",
              "     [140, 153, 'PEOPLE'],\n",
              "     [249, 253, 'COUNTRY'],\n",
              "     [315, 322, 'FINANCIAL ENTITIES'],\n",
              "     [341, 343, 'PERCENTAGE']]}],\n",
              "  None,\n",
              "  ['In a major acquisition, Microsoft Corporation (MSFT) has agreed to purchase the cybersecurity firm CloudGuard for $4.7 billion. The deal is expected to close by Q1 2026 and will expand Microsoft’s security offerings, particularly in the cloud services market. This marks one of the largest technology acquisitions of the year, and analysts predict that Microsoft’s stock could rise 10% in the next six months as a result.\\r',\n",
              "   {'entities': [[24, 45, 'ORG'],\n",
              "     [99, 109, 'ORG'],\n",
              "     [114, 127, 'MONEY'],\n",
              "     [161, 168, 'DATE'],\n",
              "     [185, 196, 'ORG'],\n",
              "     [317, 325, 'DATE'],\n",
              "     [353, 364, 'ORG'],\n",
              "     [382, 385, 'PERCENTAGE'],\n",
              "     [398, 408, 'DATE']]}],\n",
              "  None,\n",
              "  ['Goldman Sachs (GS) upgraded its forecast for the global economy in 2025, predicting a 3.7% growth rate due to stronger-than-expected recovery in Europe and Asia. The firm’s analysts also revised their forecast for the U.S. stock market, expecting the S&P 500 index to gain 8% over the next 12 months. Meanwhile, global commodity prices are expected to rise by 5%, driven by recovering demand in the oil and metals markets.\\r',\n",
              "   {'entities': [[0, 18, 'ORG'],\n",
              "     [67, 71, 'DATE'],\n",
              "     [86, 90, 'DATE'],\n",
              "     [145, 151, 'CONTINENT'],\n",
              "     [156, 161, 'CONTINENT'],\n",
              "     [218, 222, 'CONTINENT'],\n",
              "     [251, 258, 'FINANCIAL ENTITIES'],\n",
              "     [273, 275, 'PERCENTAGE'],\n",
              "     [290, 300, 'DATE'],\n",
              "     [360, 362, 'PERCENTAGE']]}],\n",
              "  None,\n",
              "  ['The European Central Bank (ECB) held its annual policy meeting in Frankfurt on June 10, 2025, where it decided to keep interest rates unchanged at 4.25%. ECB President Christine Lagarde emphasized that the bank is monitoring inflation closely and may adjust rates if necessary. The decision came after inflation in the eurozone stabilized at 2.7% in May, slightly above the ECB’s target.\\r',\n",
              "   {'entities': [[0, 31, 'ORG'],\n",
              "     [66, 75, 'COUNTRY'],\n",
              "     [79, 92, 'COUNTRY'],\n",
              "     [147, 152, 'PERCENTAGE'],\n",
              "     [154, 157, 'ORG'],\n",
              "     [168, 185, 'PEOPLE'],\n",
              "     [342, 346, 'PERCENTAGE'],\n",
              "     [350, 353, 'DATE'],\n",
              "     [374, 379, 'ORG']]}],\n",
              "  None,\n",
              "  ['Tesla’s stock (TSLA) dropped by 7% following the announcement of a recall of over 100,000 vehicles in the United States. The recall, which affects the Model 3 and Model S cars, was due to a software bug that could affect the vehicle’s braking system. CEO Elon Musk responded to the news, stating that the issue would be addressed quickly and that customer safety remains a top priority for the company.\\r',\n",
              "   {'entities': [[0, 7, 'ORG'],\n",
              "     [32, 34, 'ORG'],\n",
              "     [82, 89, 'NATURAL NUMBERS'],\n",
              "     [106, 120, 'COUNTRY'],\n",
              "     [151, 158, 'PRODUCT'],\n",
              "     [163, 170, 'PRODUCT'],\n",
              "     [255, 264, 'PEOPLE']]}],\n",
              "  None,\n",
              "  ['The Reserve Bank of India (RBI) raised the repo rate to 6.75% in its latest monetary policy review on July 7, 2025. This marks the fourth consecutive rate hike since January 2025, aimed at curbing inflation, which has been hovering around 7% in India. The decision led to a brief sell-off in Indian equities, with the NSE Nifty 50 index falling by 1.5%. The RBI indicated that it may pause rate hikes in the coming months if inflation shows signs of cooling.\\r',\n",
              "   {'entities': [[0, 31, 'ORG'],\n",
              "     [56, 61, 'PERCENTAGE'],\n",
              "     [102, 115, 'DATE'],\n",
              "     [166, 178, 'DATE'],\n",
              "     [239, 241, 'PERCENTAGE'],\n",
              "     [245, 251, 'COUNTRY'],\n",
              "     [318, 327, 'FINANCIAL ENTITIES'],\n",
              "     [328, 330, 'NATURAL NUMBERS'],\n",
              "     [348, 352, 'PERCENTAGE'],\n",
              "     [358, 361, 'ORG']]}],\n",
              "  None,\n",
              "  ['Visa Inc. (V) and Mastercard Inc. (MA) announced a joint venture to launch a new digital payment platform aimed at the Latin American market. The platform will allow users to make cross-border transactions with no fees. The companies have invested a combined $600 million in the project, which is expected to launch in Brazil by Q3 2025. Both stocks saw a modest uptick following the announcement, with Visa rising by 2% and Mastercard by 1.8%.\\r',\n",
              "   {'entities': [[0, 9, 'ORG'],\n",
              "     [18, 33, 'ORG'],\n",
              "     [259, 271, 'MONEY'],\n",
              "     [319, 325, 'MONEY'],\n",
              "     [329, 337, 'DATE'],\n",
              "     [403, 407, 'ORG'],\n",
              "     [418, 420, 'PERCENTAGE'],\n",
              "     [425, 435, 'ORG'],\n",
              "     [439, 443, 'PERCENTAGE']]}],\n",
              "  None,\n",
              "  ['Netflix (NFLX) reported a 12% year-over-year growth in subscribers, adding 10 million new users globally in Q2 2025. The company’s strong performance in international markets, particularly in India and South America, was credited with driving the growth. CEO Reed Hastings mentioned that the company would focus on regional content production to further strengthen its position in these emerging markets.\\r',\n",
              "   {'entities': [[0, 7, 'ORG'],\n",
              "     [26, 29, 'PERCENTAGE'],\n",
              "     [75, 77, 'NATURAL NUMBERS'],\n",
              "     [108, 116, 'DATE'],\n",
              "     [192, 197, 'COUNTRY'],\n",
              "     [202, 215, 'COUNTRY'],\n",
              "     [259, 272, 'PEOPLE']]}],\n",
              "  None,\n",
              "  ['The World Bank has granted $500 million in funding to South Africa to help the country transition to clean energy. The project, expected to be completed by 2028, will focus on building solar energy infrastructure and reducing the country’s reliance on coal. South African officials stated that the project would create over 50,000 jobs and reduce carbon emissions by 20% over the next decade.\\r',\n",
              "   {'entities': [[0, 14, 'ORG'],\n",
              "     [27, 39, 'MONEY'],\n",
              "     [54, 66, 'COUNTRY'],\n",
              "     [156, 160, 'DATE'],\n",
              "     [258, 271, 'COUNTRY'],\n",
              "     [324, 330, 'COUNTRY'],\n",
              "     [367, 370, 'PERCENTAGE'],\n",
              "     [376, 391, 'TIME']]}],\n",
              "  None,\n",
              "  ['Amazon Web Services (AWS) continues to dominate the cloud computing market, with the company reporting $28.6 billion in Q1 2025 revenue from its cloud division, up 19% from the previous year. Amazon’s (AMZN) overall revenue for the quarter reached $140 billion, with AWS accounting for 20% of the company’s total earnings. The company also announced plans to expand its data center network in Canada by 2026.\\r',\n",
              "   {'entities': [[0, 19, 'ORG'],\n",
              "     [103, 116, 'MONEY'],\n",
              "     [120, 127, 'DATE'],\n",
              "     [164, 167, 'PERCENTAGE'],\n",
              "     [192, 200, 'PERCENTAGE'],\n",
              "     [248, 260, 'MONEY'],\n",
              "     [267, 270, 'ORG'],\n",
              "     [286, 289, 'PERCENTAGE'],\n",
              "     [393, 399, 'COUNTRY'],\n",
              "     [403, 407, 'DATE']]}],\n",
              "  None,\n",
              "  ['In a rare move, the U.S. Treasury Department issued a new series of 30-year bonds worth $10 billion to fund infrastructure projects across the country. The bonds, which will be sold at a yield of 3.8%, are expected to generate significant demand from institutional investors. The bond issuance was part of a larger $50 billion package aimed at improving U.S. transportation and energy systems.\\r',\n",
              "   {'entities': [[20, 24, 'COUNTRY'],\n",
              "     [68, 75, 'DATE'],\n",
              "     [76, 81, 'FINANCIAL ENTITIES'],\n",
              "     [88, 99, 'MONEY'],\n",
              "     [156, 161, 'FINANCIAL ENTITIES'],\n",
              "     [196, 200, 'PERCENTAGE'],\n",
              "     [280, 284, 'FINANCIAL ENTITIES'],\n",
              "     [315, 326, 'MONEY'],\n",
              "     [354, 358, 'COUNTRY']]}],\n",
              "  None,\n",
              "  ['China’s central bank, the People’s Bank of China (PBOC), has cut the benchmark lending rate by 25 basis points to 3.0%, in an attempt to stimulate the country’s slowing economy. The decision comes after China’s GDP growth for Q1 2025 was revised downward to 4.3%. Markets reacted positively, with the Shanghai Composite Index rising by 2% after the announcement.\\r',\n",
              "   {'entities': [[0, 7, 'COUNTRY'],\n",
              "     [26, 55, 'ORG'],\n",
              "     [95, 97, 'NATURAL NUMBERS'],\n",
              "     [114, 118, 'NATURAL NUMBERS'],\n",
              "     [203, 210, 'COUNTRY'],\n",
              "     [226, 233, 'DATE'],\n",
              "     [258, 262, 'PERCENTAGE'],\n",
              "     [336, 338, 'PERCENTAGE']]}],\n",
              "  None,\n",
              "  ['Facebook (Meta) reported a 14% increase in revenue for Q1 2025, reaching $40 billion, with the majority of growth driven by its advertising business. The company’s daily active user count also reached a new high of 2.8 billion. Meta’s stock (META) surged 6% following the earnings report, and analysts are predicting that the company will maintain strong growth through the second half of 2025.\\r',\n",
              "   {'entities': [[0, 15, 'ORG'],\n",
              "     [27, 30, 'PERCENTAGE'],\n",
              "     [55, 62, 'PERCENTAGE'],\n",
              "     [73, 84, 'MONEY'],\n",
              "     [215, 227, 'NATURAL NUMBERS'],\n",
              "     [228, 234, 'ORG'],\n",
              "     [255, 257, 'PERCENTAGE'],\n",
              "     [389, 393, 'DATE']]}],\n",
              "  None,\n",
              "  ['The Bank of Japan (BOJ) announced it would continue its ultra-loose monetary policy despite rising inflation in the country. The BOJ’s decision to keep interest rates at -0.1% came after Japan’s inflation rate hit 1.9% in May 2025, slightly above the central bank’s target. The yen weakened by 0.5% against the dollar in the aftermath of the announcement\\r',\n",
              "   {'entities': [[0, 23, 'ORG'],\n",
              "     [129, 134, 'ORG'],\n",
              "     [170, 175, 'PERCENTAGE'],\n",
              "     [187, 194, 'COUNTRY'],\n",
              "     [214, 218, 'PERCENTAGE'],\n",
              "     [222, 230, 'DATE'],\n",
              "     [294, 298, 'PERCENTAGE']]}]]}"
            ]
          },
          "metadata": {},
          "execution_count": 5
        }
      ]
    },
    {
      "cell_type": "code",
      "source": [
        "\n",
        "\n",
        "for item in tqdm(TRAIN_DATA['annotations']):\n",
        "   if item is None or len(item) != 2:\n",
        "        continue\n",
        "   text, annot = item\n",
        "   doc = nlp.make_doc(text)\n",
        "   ents = []\n",
        "   for start, end, label in annot[\"entities\"]:\n",
        "       span = doc.char_span(start, end, label=label, alignment_mode=\"contract\")\n",
        "       if span is None:\n",
        "           print(\"Skipping entity\")\n",
        "       else:\n",
        "           ents.append(span)\n",
        "   doc.ents = ents\n",
        "   db.add(doc)\n",
        "   db.to_disk(\"./training_data.spacy\")\n"
      ],
      "metadata": {
        "colab": {
          "base_uri": "https://localhost:8080/"
        },
        "id": "HhlLJgt4Y-GX",
        "outputId": "07c2deb8-821d-4489-c791-8277b94c6abd"
      },
      "execution_count": 10,
      "outputs": [
        {
          "output_type": "stream",
          "name": "stderr",
          "text": [
            "100%|██████████| 59/59 [00:00<00:00, 376.81it/s]\n"
          ]
        }
      ]
    },
    {
      "cell_type": "code",
      "source": [
        "!python -m spacy init config config.cfg --lang en --pipeline ner --optimize efficiency --force"
      ],
      "metadata": {
        "colab": {
          "base_uri": "https://localhost:8080/"
        },
        "id": "o9cy42gDZBUd",
        "outputId": "00ce23c5-96ed-4232-9b20-c444b4f9c6ec"
      },
      "execution_count": 11,
      "outputs": [
        {
          "output_type": "stream",
          "name": "stdout",
          "text": [
            "\u001b[38;5;3m⚠ To generate a more effective transformer-based config (GPU-only),\n",
            "install the spacy-transformers package and re-run this command. The config\n",
            "generated now does not use transformers.\u001b[0m\n",
            "\u001b[38;5;4mℹ Generated config template specific for your use case\u001b[0m\n",
            "- Language: en\n",
            "- Pipeline: ner\n",
            "- Optimize for: efficiency\n",
            "- Hardware: CPU\n",
            "- Transformer: None\n",
            "\u001b[38;5;2m✔ Auto-filled config with all values\u001b[0m\n",
            "\u001b[38;5;2m✔ Saved config\u001b[0m\n",
            "config.cfg\n",
            "You can now add your data and train your pipeline:\n",
            "python -m spacy train config.cfg --paths.train ./train.spacy --paths.dev ./dev.spacy\n"
          ]
        }
      ]
    },
    {
      "cell_type": "code",
      "source": [
        "!python -m spacy train config.cfg --output ./ --paths.train ./training_data.spacy --paths.dev ./training_data.spacy"
      ],
      "metadata": {
        "colab": {
          "base_uri": "https://localhost:8080/"
        },
        "id": "RFAQ6iAQ3AIP",
        "outputId": "d59c9dbc-c701-4a80-ca33-5f39f135f865"
      },
      "execution_count": 12,
      "outputs": [
        {
          "output_type": "stream",
          "name": "stdout",
          "text": [
            "\u001b[38;5;4mℹ Saving to output directory: .\u001b[0m\n",
            "\u001b[38;5;4mℹ Using CPU\u001b[0m\n",
            "\u001b[1m\n",
            "=========================== Initializing pipeline ===========================\u001b[0m\n",
            "\u001b[38;5;2m✔ Initialized pipeline\u001b[0m\n",
            "\u001b[1m\n",
            "============================= Training pipeline =============================\u001b[0m\n",
            "\u001b[38;5;4mℹ Pipeline: ['tok2vec', 'ner']\u001b[0m\n",
            "\u001b[38;5;4mℹ Initial learn rate: 0.001\u001b[0m\n",
            "E    #       LOSS TOK2VEC  LOSS NER  ENTS_F  ENTS_P  ENTS_R  SCORE \n",
            "---  ------  ------------  --------  ------  ------  ------  ------\n",
            "  0       0          0.00     48.24    0.00    0.00    0.00    0.00\n",
            "  6     200       1419.42   3135.25   74.07   74.07   74.07    0.74\n",
            " 12     400        489.31    758.33   94.80   95.15   94.44    0.95\n",
            " 22     600        151.04    293.44   98.33   98.51   98.15    0.98\n",
            " 34     800         72.39     98.52   99.45   99.26   99.63    0.99\n",
            " 50    1000         87.58     82.24   99.63   99.63   99.63    1.00\n",
            " 69    1200         67.94     56.58   99.63   99.63   99.63    1.00\n",
            " 94    1400         61.83     63.11   99.63   99.63   99.63    1.00\n",
            "124    1600        163.55     89.96   99.63   99.63   99.63    1.00\n",
            "161    1800        152.50     69.74  100.00  100.00  100.00    1.00\n",
            "207    2000        177.98     50.48  100.00  100.00  100.00    1.00\n",
            "264    2200         23.24      4.82  100.00  100.00  100.00    1.00\n",
            "330    2400         75.98     10.69  100.00  100.00  100.00    1.00\n",
            "397    2600        191.62     44.93  100.00  100.00  100.00    1.00\n",
            "464    2800        157.29     21.61  100.00  100.00  100.00    1.00\n",
            "530    3000        444.46     40.96  100.00  100.00  100.00    1.00\n",
            "597    3200        282.88     43.97  100.00  100.00  100.00    1.00\n",
            "664    3400        167.98     12.25  100.00  100.00  100.00    1.00\n",
            "\u001b[38;5;2m✔ Saved pipeline to output directory\u001b[0m\n",
            "model-last\n"
          ]
        }
      ]
    },
    {
      "cell_type": "code",
      "source": [
        "nlp_ner = spacy.load(\"/content/model-best\")"
      ],
      "metadata": {
        "id": "QwMWz6VL3KTz"
      },
      "execution_count": 13,
      "outputs": []
    },
    {
      "cell_type": "code",
      "source": [
        "doc = nlp_ner(\"Market analysts at MorganEast Research, based in Singapore, forecast that the Indian digital lending sector will surpass ₹1.8 lakh crore in transaction volume by 2027, with Aurora capturing approximately 6.4% market share.\")"
      ],
      "metadata": {
        "id": "fK2OZs904ty3"
      },
      "execution_count": 14,
      "outputs": []
    },
    {
      "cell_type": "code",
      "source": [
        "spacy.displacy.render(doc, style=\"ent\", jupyter=True) # display in Jupyter"
      ],
      "metadata": {
        "colab": {
          "base_uri": "https://localhost:8080/",
          "height": 87
        },
        "id": "930YrTQc4xWP",
        "outputId": "de7ef2ff-ccf4-47a5-d483-d18e1e7cb65e"
      },
      "execution_count": 15,
      "outputs": [
        {
          "output_type": "display_data",
          "data": {
            "text/plain": [
              "<IPython.core.display.HTML object>"
            ],
            "text/html": [
              "<span class=\"tex2jax_ignore\"><div class=\"entities\" style=\"line-height: 2.5; direction: ltr\">Market analysts at MorganEast Research, based in \n",
              "<mark class=\"entity\" style=\"background: #ddd; padding: 0.45em 0.6em; margin: 0 0.25em; line-height: 1; border-radius: 0.35em;\">\n",
              "    Singapore\n",
              "    <span style=\"font-size: 0.8em; font-weight: bold; line-height: 1; border-radius: 0.35em; vertical-align: middle; margin-left: 0.5rem\">COUNTRY</span>\n",
              "</mark>\n",
              ", forecast that the Indian digital lending sector will surpass \n",
              "<mark class=\"entity\" style=\"background: #e4e7d2; padding: 0.45em 0.6em; margin: 0 0.25em; line-height: 1; border-radius: 0.35em;\">\n",
              "    ₹1.8 lakh\n",
              "    <span style=\"font-size: 0.8em; font-weight: bold; line-height: 1; border-radius: 0.35em; vertical-align: middle; margin-left: 0.5rem\">MONEY</span>\n",
              "</mark>\n",
              " crore in transaction volume by \n",
              "<mark class=\"entity\" style=\"background: #bfe1d9; padding: 0.45em 0.6em; margin: 0 0.25em; line-height: 1; border-radius: 0.35em;\">\n",
              "    2027\n",
              "    <span style=\"font-size: 0.8em; font-weight: bold; line-height: 1; border-radius: 0.35em; vertical-align: middle; margin-left: 0.5rem\">DATE</span>\n",
              "</mark>\n",
              ", with Aurora capturing approximately \n",
              "<mark class=\"entity\" style=\"background: #ddd; padding: 0.45em 0.6em; margin: 0 0.25em; line-height: 1; border-radius: 0.35em;\">\n",
              "    6.4%\n",
              "    <span style=\"font-size: 0.8em; font-weight: bold; line-height: 1; border-radius: 0.35em; vertical-align: middle; margin-left: 0.5rem\">PERCENTAGE</span>\n",
              "</mark>\n",
              " market share.</div></span>"
            ]
          },
          "metadata": {}
        }
      ]
    },
    {
      "cell_type": "code",
      "source": [],
      "metadata": {
        "id": "Cdv4pKyf4y2Z"
      },
      "execution_count": null,
      "outputs": []
    }
  ]
}