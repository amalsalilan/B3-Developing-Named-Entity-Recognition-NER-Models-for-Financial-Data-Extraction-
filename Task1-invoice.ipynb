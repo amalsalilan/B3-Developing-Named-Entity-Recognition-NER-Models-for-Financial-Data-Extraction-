import re
import fitz  # PyMuPDF
import spacy

# Load a larger, more accurate spaCy model
try:
    nlp = spacy.load("en_core_web_lg")
except OSError:
    print("Downloading 'en_core_web_lg' model. This may take a moment...")
    from spacy.cli import download
    download("en_core_web_lg")
    nlp = spacy.load("en_core_web_lg")

def extract_details_with_ml_and_visualization(pdf_path):
    """
    Extracts contact details and VISUALIZES the entities found by spaCy.
    """
    print(f"\n--- Processing {pdf_path} with ML/NER and Visualization ---")
    full_text = ""
    try:
        with fitz.open(pdf_path) as doc:
            for page in doc:
                full_text += page.get_text("text")
    except Exception as e:
        print(f"Error reading {pdf_path}: {e}")
        return {}

    phone_regex = r'[\+\(]?\d{1,4}[\s\-\.\)]?\d{2,4}[\s\-\.]?\d{2,4}[\s\-\.]?\d{2,5}'
    email_regex = r'[a-zA-Z0-9._%+-]+@[a-zA-Z0-9.-]+\.[a-zA-Z]{2,}'

    customer_info = {"name": None, "email": None, "phone": None}
    company_info = {"name": None, "email": [], "phone": []}

    # Isolate Customer Block ("Bill To")
    bill_to_text = ""
    bill_to_match = re.search(r'Bill To[:\s\n]*((?:.|\n)+?)(?=\n{2,}|Invoice|Item|Description|Notes)', full_text, re.IGNORECASE)
    if bill_to_match:
        bill_to_text = bill_to_match.group(1)
        doc_customer = nlp(bill_to_text)

        # --- NEW VISUALIZATION PART 1 ---
        print("\n[DEBUG] Entities found by spaCy in the 'Bill To' section:")
        for ent in doc_customer.ents:
            print(f"  - Entity: '{ent.text.strip()}', Label: '{ent.label_}'")
        # --- END OF VISUALIZATION PART ---

        for ent in doc_customer.ents:
            if ent.label_ == "PERSON":
                customer_info["name"] = ent.text.strip().replace('\n', ' ')
                break

        customer_info["email"] = re.search(email_regex, bill_to_text).group(0) if re.search(email_regex, bill_to_text) else None

        customer_phone_match = re.search(phone_regex, bill_to_text)
        if customer_phone_match and sum(c.isdigit() for c in customer_phone_match.group(0)) > 7:
            customer_info["phone"] = customer_phone_match.group(0).strip()

    # Find Company Info in the Full Document
    doc_full = nlp(full_text)

    # --- NEW VISUALIZATION PART 2 ---
    print("\n[DEBUG] Some entities found by spaCy in the full document:")
    # We'll print a sample to avoid a very long list
    for ent in list(doc_full.ents)[:10]: # Print first 10 entities
         print(f"  - Entity: '{ent.text.strip()}', Label: '{ent.label_}'")
    # --- END OF VISUALIZATION PART ---

    for ent in doc_full.ents:
        if ent.label_ == "ORG" and "acme" in ent.text.lower():
            company_info["name"] = ent.text.strip().replace('\n', ' ')
            break
    if not company_info["name"] and "Acme" in full_text: company_info["name"] = "Acme"

    all_emails = re.findall(email_regex, full_text)
    all_phones = re.findall(phone_regex, full_text)

    company_info["email"] = list(set([e for e in all_emails if e != customer_info["email"]]))
    potential_phones = [p.strip() for p in all_phones if p.strip() != customer_info.get("phone")]
    company_info["phone"] = list(set([p for p in potential_phones if sum(c.isdigit() for c in p) > 7]))

    # We print the final result after the debug info
    print("\n--- FINAL EXTRACTED DATA ---")
    return {"customer": customer_info, "company": company_info}

# --- Main Execution ---
if __name__ == "__main__":
    pdf_files = ["invoice2.pdf", "invoice3.pdf", "invoice4.pdf"]

    for pdf in pdf_files:
        extracted_data = extract_details_with_ml_and_visualization(pdf)
        if extracted_data:
            print(f"Customer Info: {extracted_data['customer']}")
            print(f"Company Info: {extracted_data['company']}")
