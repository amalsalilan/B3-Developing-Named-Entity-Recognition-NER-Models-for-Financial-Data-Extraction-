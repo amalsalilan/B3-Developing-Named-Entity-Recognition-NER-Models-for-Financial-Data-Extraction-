{
  "nbformat": 4,
  "nbformat_minor": 0,
  "metadata": {
    "colab": {
      "provenance": [],
      "authorship_tag": "ABX9TyNHkNvYTYdg/vNykwb0iKfh",
      "include_colab_link": true
    },
    "kernelspec": {
      "name": "python3",
      "display_name": "Python 3"
    },
    "language_info": {
      "name": "python"
    }
  },
  "cells": [
    {
      "cell_type": "markdown",
      "metadata": {
        "id": "view-in-github",
        "colab_type": "text"
      },
      "source": [
        "<a href=\"https://colab.research.google.com/github/amalsalilan/B3-Developing-Named-Entity-Recognition-NER-Models-for-Financial-Data-Extraction-/blob/rishwanth/ner_model_data_extraction_rishi.ipynb\" target=\"_parent\"><img src=\"https://colab.research.google.com/assets/colab-badge.svg\" alt=\"Open In Colab\"/></a>"
      ]
    },
    {
      "cell_type": "code",
      "execution_count": 14,
      "metadata": {
        "id": "rm3X-0zWSdYd"
      },
      "outputs": [],
      "source": [
        "! pip install -U spacy -q"
      ]
    },
    {
      "cell_type": "code",
      "source": [
        "!python -m spacy info"
      ],
      "metadata": {
        "colab": {
          "base_uri": "https://localhost:8080/"
        },
        "id": "QE6aPEugSsmV",
        "outputId": "41c677ad-ed04-4333-db04-2bc2226cb082"
      },
      "execution_count": 15,
      "outputs": [
        {
          "output_type": "stream",
          "name": "stdout",
          "text": [
            "\u001b[1m\n",
            "============================== Info about spaCy ==============================\u001b[0m\n",
            "\n",
            "spaCy version    3.8.7                         \n",
            "Location         /usr/local/lib/python3.12/dist-packages/spacy\n",
            "Platform         Linux-6.6.105+-x86_64-with-glibc2.35\n",
            "Python version   3.12.12                       \n",
            "Pipelines        en_core_web_sm (3.8.0)        \n",
            "\n"
          ]
        }
      ]
    },
    {
      "cell_type": "code",
      "source": [
        "import spacy\n",
        "from spacy.tokens import DocBin\n",
        "from tqdm import tqdm\n",
        "\n",
        "nlp = spacy.blank(\"en\") # load a new spacy model\n",
        "db = DocBin() # create a DocBin object"
      ],
      "metadata": {
        "id": "Tm_Tvy7dSxvd"
      },
      "execution_count": 16,
      "outputs": []
    },
    {
      "cell_type": "code",
      "source": [
        "import json\n",
        "f = open('annotations_finance_india_v2.json')\n",
        "TRAIN_DATA = json.load(f)"
      ],
      "metadata": {
        "id": "5-AKP4p7S70w"
      },
      "execution_count": 17,
      "outputs": []
    },
    {
      "cell_type": "code",
      "source": [
        "TRAIN_DATA"
      ],
      "metadata": {
        "colab": {
          "base_uri": "https://localhost:8080/"
        },
        "id": "JjkYgSZiTE7O",
        "outputId": "71b6dd23-cd97-46b3-fee6-7582ad163424"
      },
      "execution_count": 18,
      "outputs": [
        {
          "output_type": "execute_result",
          "data": {
            "text/plain": [
              "{'classes': ['PERSON',\n",
              "  'ORGANISATION',\n",
              "  'DATE',\n",
              "  'LOCATION',\n",
              "  'MONEY',\n",
              "  'DESIGNATION'],\n",
              " 'annotations': [['Company: AsterFin Capital Ltd.',\n",
              "   {'entities': [[9, 30, 'ORGANISATION']]}],\n",
              "  ['Financial Year: FY 2025-26', {'entities': [[16, 26, 'DATE']]}],\n",
              "  ['Report Date: 05 April 2025', {'entities': [[13, 26, 'DATE']]}],\n",
              "  ['Location: Mumbai, Maharashtra, India',\n",
              "   {'entities': [[10, 36, 'LOCATION']]}],\n",
              "  ['AsterFin Capital Ltd. focuses on retail lending, SME credit, and wealth management across India.',\n",
              "   {'entities': [[0, 21, 'ORGANISATION'], [90, 95, 'LOCATION']]}],\n",
              "  ['In Q4 FY 2024-25, the company opened branches in Kochi, Coimbatore, and Visakhapatnam.',\n",
              "   {'entities': [[3, 16, 'DATE'],\n",
              "     [49, 54, 'LOCATION'],\n",
              "     [56, 66, 'LOCATION'],\n",
              "     [72, 85, 'LOCATION']]}],\n",
              "  ['Total Revenue: ₹1,248,300,000 (₹124.83 Cr)',\n",
              "   {'entities': [[15, 29, 'MONEY']]}],\n",
              "  ['Interest Income: ₹820,000,000', {'entities': [[17, 29, 'MONEY']]}],\n",
              "  ['Fee & Commission: ₹220,500,000', {'entities': [[18, 30, 'MONEY']]}],\n",
              "  ['Wealth Management Revenue: ₹207,800,000',\n",
              "   {'entities': [[27, 39, 'MONEY']]}],\n",
              "  ['Operating Expenses: ₹540,250,000', {'entities': [[20, 32, 'MONEY']]}],\n",
              "  ['Employee Benefits: ₹210,000,000', {'entities': [[19, 31, 'MONEY']]}],\n",
              "  ['Technology & Cloud: ₹78,400,000', {'entities': [[20, 31, 'MONEY']]}],\n",
              "  ['Marketing & Promotions: ₹36,750,000', {'entities': [[24, 35, 'MONEY']]}],\n",
              "  ['Compliance & Audit: ₹24,500,000', {'entities': [[20, 31, 'MONEY']]}],\n",
              "  ['EBITDA: ₹708,050,000', {'entities': [[8, 20, 'MONEY']]}],\n",
              "  ['Tax Paid for AY 2025-26: ₹142,600,000',\n",
              "   {'entities': [[13, 23, 'DATE'], [25, 37, 'MONEY']]}],\n",
              "  ['Net Profit After Tax (NPAT): ₹525,450,000',\n",
              "   {'entities': [[29, 41, 'MONEY']]}],\n",
              "  ['Proposed Dividend (Final): ₹3 per share on 05 July 2025.',\n",
              "   {'entities': [[27, 29, 'MONEY'], [43, 55, 'DATE']]}],\n",
              "  ['Total Assets: ₹6,750,000,000 as on 31 March 2025',\n",
              "   {'entities': [[14, 28, 'MONEY'], [35, 48, 'DATE']]}],\n",
              "  ['Gross Loans & Advances: ₹4,120,000,000',\n",
              "   {'entities': [[24, 38, 'MONEY']]}],\n",
              "  ['Customer Deposits: ₹1,380,000,000', {'entities': [[19, 33, 'MONEY']]}],\n",
              "  ['Total Liabilities: ₹2,910,000,000', {'entities': [[19, 33, 'MONEY']]}],\n",
              "  ['Key Partners: ICICI Bank, Paytm Payments Bank, Razorpay, and AWS India.',\n",
              "   {'entities': [[14, 24, 'ORGANISATION'],\n",
              "     [26, 45, 'ORGANISATION'],\n",
              "     [47, 55, 'ORGANISATION'],\n",
              "     [61, 70, 'ORGANISATION']]}],\n",
              "  ['Cloud services are hosted on Amazon Web Services (Mumbai Region).',\n",
              "   {'entities': [[29, 48, 'ORGANISATION'], [50, 63, 'LOCATION']]}],\n",
              "  ['AsterFin signed a co-lending MoU with HDFC Bank on 12 February 2025.',\n",
              "   {'entities': [[0, 8, 'ORGANISATION'],\n",
              "     [38, 47, 'ORGANISATION'],\n",
              "     [51, 67, 'DATE']]}],\n",
              "  ['AsterFin partnered with Microsoft Azure for analytics on 23 January 2025.',\n",
              "   {'entities': [[0, 8, 'ORGANISATION'],\n",
              "     [24, 39, 'ORGANISATION'],\n",
              "     [57, 72, 'DATE']]}],\n",
              "  ['AsterFin collaborated with Google Cloud India to build a data lake in Hyderabad.',\n",
              "   {'entities': [[0, 8, 'ORGANISATION'],\n",
              "     [27, 45, 'ORGANISATION'],\n",
              "     [70, 79, 'LOCATION']]}],\n",
              "  ['International expansion planned for Singapore and Dubai in FY 2026-27.',\n",
              "   {'entities': [[36, 45, 'LOCATION'],\n",
              "     [50, 55, 'LOCATION'],\n",
              "     [59, 69, 'DATE']]}],\n",
              "  ['Representative office to be set up in London by December 2026.',\n",
              "   {'entities': [[38, 44, 'LOCATION'], [48, 61, 'DATE']]}],\n",
              "  ['Projected consolidated revenue for FY 2026-27: ₹1,550,000,000.',\n",
              "   {'entities': [[35, 45, 'DATE'], [47, 61, 'MONEY']]}],\n",
              "  ['Capital expenditure (CAPEX) for data centers in 2025: ₹95,000,000.',\n",
              "   {'entities': [[48, 52, 'DATE'], [54, 65, 'MONEY']]}],\n",
              "  ['Report approved by: Ms. Kavya Iyer, CFO – AsterFin Capital Ltd.',\n",
              "   {'entities': [[20, 34, 'PERSON'],\n",
              "     [36, 39, 'DESIGNATION'],\n",
              "     [42, 63, 'ORGANISATION']]}],\n",
              "  ['Managing Director: Mr. Rohan Mehta',\n",
              "   {'entities': [[0, 17, 'DESIGNATION'], [19, 34, 'PERSON']]}],\n",
              "  ['Head of Risk: Priya Natarajan',\n",
              "   {'entities': [[0, 12, 'DESIGNATION'], [14, 29, 'PERSON']]}],\n",
              "  ['Chief Technology Officer: Arjun Rao',\n",
              "   {'entities': [[0, 24, 'DESIGNATION'], [26, 35, 'PERSON']]}],\n",
              "  ['External Auditor: Menon & Balakrishnan LLP, Kochi.',\n",
              "   {'entities': [[18, 42, 'ORGANISATION'], [44, 49, 'LOCATION']]}],\n",
              "  ['Signed on 06 April 2025 at Mumbai.',\n",
              "   {'entities': [[10, 23, 'DATE'], [27, 33, 'LOCATION']]}],\n",
              "  ['Board meeting scheduled on 30 June 2025 at Chennai.',\n",
              "   {'entities': [[27, 39, 'DATE'], [43, 50, 'LOCATION']]}],\n",
              "  ['AGM to be held on 19 September 2025 in Bengaluru.',\n",
              "   {'entities': [[18, 35, 'DATE'], [39, 48, 'LOCATION']]}],\n",
              "  ['ESOP Pool expansion approved: ₹12,000,000.',\n",
              "   {'entities': [[30, 41, 'MONEY']]}],\n",
              "  ['CSR spending in FY 2024-25: ₹7,500,000 towards education initiatives in Pune.',\n",
              "   {'entities': [[16, 26, 'DATE'], [28, 38, 'MONEY'], [72, 76, 'LOCATION']]}]]}"
            ]
          },
          "metadata": {},
          "execution_count": 18
        }
      ]
    },
    {
      "cell_type": "code",
      "source": [
        "from tqdm import tqdm\n",
        "\n",
        "for item in tqdm(TRAIN_DATA['annotations']):\n",
        "    if item is None or not isinstance(item, (list, tuple)) or len(item) != 2:\n",
        "        print(\"Skipping invalid item:\", item)\n",
        "        continue\n",
        "\n",
        "    text, annot = item\n",
        "    doc = nlp.make_doc(text)\n",
        "    ents = []\n",
        "    for start, end, label in annot.get(\"entities\", []):\n",
        "        span = doc.char_span(start, end, label=label, alignment_mode=\"contract\")\n",
        "        if span is None:\n",
        "            print(\"Skipping entity\")\n",
        "        else:\n",
        "            ents.append(span)\n",
        "    doc.ents = ents\n",
        "    db.add(doc)\n",
        "\n",
        "db.to_disk(\"./training_data.spacy\")"
      ],
      "metadata": {
        "colab": {
          "base_uri": "https://localhost:8080/"
        },
        "id": "J2wVZhhWTJls",
        "outputId": "9d4295fe-f2cc-4a8c-f2e9-7fb05b7f4432"
      },
      "execution_count": 19,
      "outputs": [
        {
          "output_type": "stream",
          "name": "stderr",
          "text": [
            "100%|██████████| 42/42 [00:00<00:00, 1858.04it/s]\n"
          ]
        }
      ]
    },
    {
      "cell_type": "code",
      "source": [
        "! python -m spacy init config config.cfg --lang en --pipeline ner --optimize efficiency"
      ],
      "metadata": {
        "colab": {
          "base_uri": "https://localhost:8080/"
        },
        "id": "UAo7uyf-TSIq",
        "outputId": "de543edb-fb5e-4627-cf72-1f89c6607926"
      },
      "execution_count": 20,
      "outputs": [
        {
          "output_type": "stream",
          "name": "stdout",
          "text": [
            "\n",
            "\u001b[38;5;1m✘ The provided output file already exists. To force overwriting the\n",
            "config file, set the --force or -F flag.\u001b[0m\n",
            "\n"
          ]
        }
      ]
    },
    {
      "cell_type": "code",
      "source": [
        "! python -m spacy train config.cfg --output ./ --paths.train ./training_data.spacy --paths.dev ./training_data.spacy"
      ],
      "metadata": {
        "colab": {
          "base_uri": "https://localhost:8080/"
        },
        "id": "caJ-M9mlTZJi",
        "outputId": "724f17ab-e38d-42e5-c631-80577c56dc20"
      },
      "execution_count": 21,
      "outputs": [
        {
          "output_type": "stream",
          "name": "stdout",
          "text": [
            "\u001b[38;5;4mℹ Saving to output directory: .\u001b[0m\n",
            "\u001b[38;5;4mℹ Using CPU\u001b[0m\n",
            "\u001b[1m\n",
            "=========================== Initializing pipeline ===========================\u001b[0m\n",
            "\u001b[38;5;2m✔ Initialized pipeline\u001b[0m\n",
            "\u001b[1m\n",
            "============================= Training pipeline =============================\u001b[0m\n",
            "\u001b[38;5;4mℹ Pipeline: ['tok2vec', 'ner']\u001b[0m\n",
            "\u001b[38;5;4mℹ Initial learn rate: 0.001\u001b[0m\n",
            "E    #       LOSS TOK2VEC  LOSS NER  ENTS_F  ENTS_P  ENTS_R  SCORE \n",
            "---  ------  ------------  --------  ------  ------  ------  ------\n",
            "  0       0          0.00     59.65    0.00    0.00    0.00    0.00\n",
            " 50     200         58.37   2121.48  100.00  100.00  100.00    1.00\n",
            "113     400          0.00      0.00  100.00  100.00  100.00    1.00\n",
            "180     600          0.00      0.00  100.00  100.00  100.00    1.00\n",
            "279     800          0.00      0.00  100.00  100.00  100.00    1.00\n",
            "379    1000          0.00      0.00  100.00  100.00  100.00    1.00\n",
            "483    1200          0.00      0.00  100.00  100.00  100.00    1.00\n",
            "683    1400          0.00      0.00  100.00  100.00  100.00    1.00\n",
            "883    1600          0.00      0.00  100.00  100.00  100.00    1.00\n",
            "1083    1800          0.00      0.00  100.00  100.00  100.00    1.00\n",
            "\u001b[38;5;2m✔ Saved pipeline to output directory\u001b[0m\n",
            "model-last\n"
          ]
        }
      ]
    },
    {
      "cell_type": "code",
      "source": [
        "nlp_ner = spacy.load(\"/content/model-best\")"
      ],
      "metadata": {
        "id": "LEu94FywTnie"
      },
      "execution_count": 22,
      "outputs": []
    },
    {
      "cell_type": "code",
      "source": [
        "doc = nlp_ner(\"Market analysts at MorganEast Research, based in Singapore, forecast that the Indian digital lending sector will surpass ₹1.8 lakh crore in transaction volume by 2027, with Aurora capturing approximately 6.4% market share.\")"
      ],
      "metadata": {
        "id": "8Fgp4vAPT7Xj"
      },
      "execution_count": 23,
      "outputs": []
    },
    {
      "cell_type": "code",
      "source": [
        "spacy.displacy.render(doc, style=\"ent\", jupyter=True) # display in Jupyter"
      ],
      "metadata": {
        "colab": {
          "base_uri": "https://localhost:8080/",
          "height": 87
        },
        "id": "8eJ0QMNwUCJt",
        "outputId": "94ee7fe9-53e0-40e4-e5ec-70c72664c3c9"
      },
      "execution_count": 24,
      "outputs": [
        {
          "output_type": "display_data",
          "data": {
            "text/plain": [
              "<IPython.core.display.HTML object>"
            ],
            "text/html": [
              "<span class=\"tex2jax_ignore\"><div class=\"entities\" style=\"line-height: 2.5; direction: ltr\">\n",
              "<mark class=\"entity\" style=\"background: #ddd; padding: 0.45em 0.6em; margin: 0 0.25em; line-height: 1; border-radius: 0.35em;\">\n",
              "    Market analysts\n",
              "    <span style=\"font-size: 0.8em; font-weight: bold; line-height: 1; border-radius: 0.35em; vertical-align: middle; margin-left: 0.5rem\">DESIGNATION</span>\n",
              "</mark>\n",
              " at \n",
              "<mark class=\"entity\" style=\"background: #ddd; padding: 0.45em 0.6em; margin: 0 0.25em; line-height: 1; border-radius: 0.35em;\">\n",
              "    MorganEast Research\n",
              "    <span style=\"font-size: 0.8em; font-weight: bold; line-height: 1; border-radius: 0.35em; vertical-align: middle; margin-left: 0.5rem\">ORGANISATION</span>\n",
              "</mark>\n",
              ", based in \n",
              "<mark class=\"entity\" style=\"background: #ddd; padding: 0.45em 0.6em; margin: 0 0.25em; line-height: 1; border-radius: 0.35em;\">\n",
              "    Singapore\n",
              "    <span style=\"font-size: 0.8em; font-weight: bold; line-height: 1; border-radius: 0.35em; vertical-align: middle; margin-left: 0.5rem\">LOCATION</span>\n",
              "</mark>\n",
              ", forecast that the \n",
              "<mark class=\"entity\" style=\"background: #ddd; padding: 0.45em 0.6em; margin: 0 0.25em; line-height: 1; border-radius: 0.35em;\">\n",
              "    Indian\n",
              "    <span style=\"font-size: 0.8em; font-weight: bold; line-height: 1; border-radius: 0.35em; vertical-align: middle; margin-left: 0.5rem\">LOCATION</span>\n",
              "</mark>\n",
              " digital lending sector will surpass \n",
              "<mark class=\"entity\" style=\"background: #e4e7d2; padding: 0.45em 0.6em; margin: 0 0.25em; line-height: 1; border-radius: 0.35em;\">\n",
              "    ₹1.8\n",
              "    <span style=\"font-size: 0.8em; font-weight: bold; line-height: 1; border-radius: 0.35em; vertical-align: middle; margin-left: 0.5rem\">MONEY</span>\n",
              "</mark>\n",
              " lakh crore in transaction volume by \n",
              "<mark class=\"entity\" style=\"background: #bfe1d9; padding: 0.45em 0.6em; margin: 0 0.25em; line-height: 1; border-radius: 0.35em;\">\n",
              "    2027,\n",
              "    <span style=\"font-size: 0.8em; font-weight: bold; line-height: 1; border-radius: 0.35em; vertical-align: middle; margin-left: 0.5rem\">DATE</span>\n",
              "</mark>\n",
              " with \n",
              "<mark class=\"entity\" style=\"background: #ddd; padding: 0.45em 0.6em; margin: 0 0.25em; line-height: 1; border-radius: 0.35em;\">\n",
              "    Aurora capturing\n",
              "    <span style=\"font-size: 0.8em; font-weight: bold; line-height: 1; border-radius: 0.35em; vertical-align: middle; margin-left: 0.5rem\">ORGANISATION</span>\n",
              "</mark>\n",
              " approximately \n",
              "<mark class=\"entity\" style=\"background: #ddd; padding: 0.45em 0.6em; margin: 0 0.25em; line-height: 1; border-radius: 0.35em;\">\n",
              "    6.4%\n",
              "    <span style=\"font-size: 0.8em; font-weight: bold; line-height: 1; border-radius: 0.35em; vertical-align: middle; margin-left: 0.5rem\">ORGANISATION</span>\n",
              "</mark>\n",
              " market share.</div></span>"
            ]
          },
          "metadata": {}
        }
      ]
    }
  ]
}