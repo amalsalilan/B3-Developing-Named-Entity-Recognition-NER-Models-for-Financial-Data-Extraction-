{
  "nbformat": 4,
  "nbformat_minor": 0,
  "metadata": {
    "colab": {
      "provenance": []
    },
    "kernelspec": {
      "name": "python3",
      "display_name": "Python 3"
    },
    "language_info": {
      "name": "python"
    }
  },
  "cells": [
    {
      "cell_type": "code",
      "execution_count": 1,
      "metadata": {
        "id": "uY1GpoSu7aMW"
      },
      "outputs": [],
      "source": [
        "! pip install -U spacy -q"
      ]
    },
    {
      "cell_type": "code",
      "source": [
        "\n",
        "!python -m spacy info"
      ],
      "metadata": {
        "id": "dsThVuO685l5",
        "colab": {
          "base_uri": "https://localhost:8080/"
        },
        "outputId": "ce849736-1e74-4065-b3a7-ff26f5e44cb4"
      },
      "execution_count": 2,
      "outputs": [
        {
          "output_type": "stream",
          "name": "stdout",
          "text": [
            "\u001b[1m\n",
            "============================== Info about spaCy ==============================\u001b[0m\n",
            "\n",
            "spaCy version    3.8.7                         \n",
            "Location         /usr/local/lib/python3.12/dist-packages/spacy\n",
            "Platform         Linux-6.6.105+-x86_64-with-glibc2.35\n",
            "Python version   3.12.12                       \n",
            "Pipelines        en_core_web_sm (3.8.0)        \n",
            "\n"
          ]
        }
      ]
    },
    {
      "cell_type": "code",
      "source": [
        "import spacy\n",
        "from spacy.tokens import DocBin\n",
        "from tqdm import tqdm\n",
        "\n",
        "nlp = spacy.blank(\"en\") # load a new spacy model\n",
        "db = DocBin() # create a DocBin object"
      ],
      "metadata": {
        "id": "CdLCS5Z48_Km"
      },
      "execution_count": 3,
      "outputs": []
    },
    {
      "cell_type": "code",
      "source": [
        "import json\n",
        "f = open('/content/annotations.json')\n",
        "TRAIN_DATA = json.load(f)"
      ],
      "metadata": {
        "id": "1HVmvmk39Faf"
      },
      "execution_count": 5,
      "outputs": []
    },
    {
      "cell_type": "code",
      "source": [
        "TRAIN_DATA"
      ],
      "metadata": {
        "colab": {
          "base_uri": "https://localhost:8080/"
        },
        "id": "t680GofiUVCg",
        "outputId": "dfb1272a-94bc-461b-abd7-5d418654ef94"
      },
      "execution_count": 6,
      "outputs": [
        {
          "output_type": "execute_result",
          "data": {
            "text/plain": [
              "{'classes': ['ORG', 'PERSON', 'DATE', 'GPE', 'MONEY'],\n",
              " 'annotations': [['Infosys was founded in 1981 by Narayana Murthy and six others in Pune, India.',\n",
              "   {'entities': [[0, 7, 'ORG'],\n",
              "     [23, 27, 'DATE'],\n",
              "     [31, 46, 'PERSON'],\n",
              "     [65, 69, 'GPE'],\n",
              "     [71, 76, 'GPE']]}],\n",
              "  ['The company later moved its headquarters to Bengaluru.',\n",
              "   {'entities': [[44, 53, 'GPE']]}],\n",
              "  ['Microsoft Corporation was established by Bill Gates and Paul Allen in 1975 in Albuquerque, New Mexico.',\n",
              "   {'entities': [[0, 21, 'ORG'],\n",
              "     [41, 51, 'PERSON'],\n",
              "     [56, 66, 'PERSON'],\n",
              "     [70, 74, 'DATE'],\n",
              "     [78, 89, 'GPE'],\n",
              "     [91, 101, 'GPE']]}],\n",
              "  ['Apple Inc., based in Cupertino, was founded by Steve Jobs, Steve Wozniak, and Ronald Wayne.',\n",
              "   {'entities': [[0, 10, 'ORG'],\n",
              "     [21, 30, 'GPE'],\n",
              "     [47, 57, 'PERSON'],\n",
              "     [59, 72, 'PERSON'],\n",
              "     [78, 90, 'PERSON']]}],\n",
              "  ['The Indian government announced a $10 billion fund to promote semiconductor manufacturing in 2022.',\n",
              "   {'entities': [[4, 10, 'GPE'], [34, 45, 'MONEY'], [93, 97, 'DATE']]}],\n",
              "  ['Elon Musk acquired Twitter for approximately $44 billion in October 2022.',\n",
              "   {'entities': [[0, 9, 'PERSON'],\n",
              "     [19, 26, 'ORG'],\n",
              "     [45, 56, 'MONEY'],\n",
              "     [60, 72, 'DATE']]}],\n",
              "  ['Google was created by Larry Page and Sergey Brin while they were Ph.D. students at Stanford University in 1998.',\n",
              "   {'entities': [[0, 6, 'ORG'],\n",
              "     [22, 32, 'PERSON'],\n",
              "     [37, 48, 'PERSON'],\n",
              "     [83, 102, 'ORG'],\n",
              "     [106, 110, 'DATE']]}],\n",
              "  ['Amazon, founded by Jeff Bezos in 1994, is headquartered in Seattle, Washington.',\n",
              "   {'entities': [[0, 6, 'ORG'],\n",
              "     [19, 29, 'PERSON'],\n",
              "     [33, 37, 'DATE'],\n",
              "     [59, 66, 'GPE'],\n",
              "     [68, 79, 'GPE']]}],\n",
              "  ['The World Health Organization (WHO) declared COVID-19 a pandemic on March 11, 2020.',\n",
              "   {'entities': [[0, 35, 'ORG'], [68, 82, 'DATE']]}],\n",
              "  ['Tata Consultancy Services (TCS) reported a revenue of ₹60,000 crore in the last fiscal year.',\n",
              "   {'entities': [[0, 31, 'ORG'], [54, 67, 'MONEY']]}],\n",
              "  ['', {'entities': []}]]}"
            ]
          },
          "metadata": {},
          "execution_count": 6
        }
      ]
    },
    {
      "cell_type": "code",
      "source": [
        "\n",
        "\n",
        "for text, annot in tqdm(TRAIN_DATA['annotations']):\n",
        "    doc = nlp.make_doc(text)\n",
        "    ents = []\n",
        "    for start, end, label in annot[\"entities\"]:\n",
        "        span = doc.char_span(start, end, label=label, alignment_mode=\"contract\")\n",
        "        if span is None:\n",
        "            print(\"Skipping entity\")\n",
        "        else:\n",
        "            ents.append(span)\n",
        "    doc.ents = ents\n",
        "    db.add(doc)\n",
        "    db.to_disk(\"./training_data.spacy\")\n"
      ],
      "metadata": {
        "id": "MESUTK0P9wiH",
        "colab": {
          "base_uri": "https://localhost:8080/"
        },
        "outputId": "8de3d207-6c2d-403a-ff15-22db341cc6af"
      },
      "execution_count": 7,
      "outputs": [
        {
          "output_type": "stream",
          "name": "stderr",
          "text": [
            "100%|██████████| 11/11 [00:00<00:00, 403.92it/s]\n"
          ]
        }
      ]
    },
    {
      "cell_type": "code",
      "source": [
        "! python -m spacy init config config.cfg --lang en --pipeline ner --optimize efficiency"
      ],
      "metadata": {
        "id": "IbNCEOO99HJ5",
        "colab": {
          "base_uri": "https://localhost:8080/"
        },
        "outputId": "06754536-1506-4695-9aeb-68a27b677c45"
      },
      "execution_count": 8,
      "outputs": [
        {
          "output_type": "stream",
          "name": "stdout",
          "text": [
            "\u001b[38;5;3m⚠ To generate a more effective transformer-based config (GPU-only),\n",
            "install the spacy-transformers package and re-run this command. The config\n",
            "generated now does not use transformers.\u001b[0m\n",
            "\u001b[38;5;4mℹ Generated config template specific for your use case\u001b[0m\n",
            "- Language: en\n",
            "- Pipeline: ner\n",
            "- Optimize for: efficiency\n",
            "- Hardware: CPU\n",
            "- Transformer: None\n",
            "\u001b[38;5;2m✔ Auto-filled config with all values\u001b[0m\n",
            "\u001b[38;5;2m✔ Saved config\u001b[0m\n",
            "config.cfg\n",
            "You can now add your data and train your pipeline:\n",
            "python -m spacy train config.cfg --paths.train ./train.spacy --paths.dev ./dev.spacy\n"
          ]
        }
      ]
    },
    {
      "cell_type": "code",
      "source": [
        "! python -m spacy train config.cfg --output ./ --paths.train ./training_data.spacy --paths.dev ./training_data.spacy"
      ],
      "metadata": {
        "id": "pAw0_KF89KGS",
        "colab": {
          "base_uri": "https://localhost:8080/"
        },
        "outputId": "0ab27875-b6c5-4e41-dfda-fe9aa4027459"
      },
      "execution_count": 9,
      "outputs": [
        {
          "output_type": "stream",
          "name": "stdout",
          "text": [
            "\u001b[38;5;4mℹ Saving to output directory: .\u001b[0m\n",
            "\u001b[38;5;4mℹ Using CPU\u001b[0m\n",
            "\u001b[1m\n",
            "=========================== Initializing pipeline ===========================\u001b[0m\n",
            "\u001b[38;5;2m✔ Initialized pipeline\u001b[0m\n",
            "\u001b[1m\n",
            "============================= Training pipeline =============================\u001b[0m\n",
            "\u001b[38;5;4mℹ Pipeline: ['tok2vec', 'ner']\u001b[0m\n",
            "\u001b[38;5;4mℹ Initial learn rate: 0.001\u001b[0m\n",
            "E    #       LOSS TOK2VEC  LOSS NER  ENTS_F  ENTS_P  ENTS_R  SCORE \n",
            "---  ------  ------------  --------  ------  ------  ------  ------\n",
            "  0       0          0.00     61.86    0.00    0.00    0.00    0.00\n",
            "100     200         79.97   1828.26  100.00  100.00  100.00    1.00\n",
            "243     400          0.00      0.00  100.00  100.00  100.00    1.00\n",
            "443     600          0.00      0.00  100.00  100.00  100.00    1.00\n",
            "643     800          0.00      0.00  100.00  100.00  100.00    1.00\n",
            "843    1000          0.00      0.00  100.00  100.00  100.00    1.00\n",
            "1043    1200          0.00      0.00  100.00  100.00  100.00    1.00\n",
            "1243    1400          0.00      0.00  100.00  100.00  100.00    1.00\n",
            "1443    1600          0.00      0.00  100.00  100.00  100.00    1.00\n",
            "1643    1800          0.00      0.00  100.00  100.00  100.00    1.00\n",
            "\u001b[38;5;2m✔ Saved pipeline to output directory\u001b[0m\n",
            "model-last\n"
          ]
        }
      ]
    },
    {
      "cell_type": "code",
      "source": [
        "nlp_ner = spacy.load(\"/content/model-best\")"
      ],
      "metadata": {
        "id": "54hyaa7k9L6t"
      },
      "execution_count": 10,
      "outputs": []
    },
    {
      "cell_type": "code",
      "source": [
        "doc = nlp_ner(\"Market analysts at MorganEast Research, based in Singapore, forecast that the Indian digital lending sector will surpass ₹1.8 lakh crore in transaction volume by 2027, with Aurora capturing approximately 6.4% market share.\")"
      ],
      "metadata": {
        "id": "aq37rwnr9N2m"
      },
      "execution_count": 11,
      "outputs": []
    },
    {
      "cell_type": "code",
      "source": [
        "spacy.displacy.render(doc, style=\"ent\", jupyter=True) # display in Jupyter"
      ],
      "metadata": {
        "id": "TbnhfIhe9WF6",
        "colab": {
          "base_uri": "https://localhost:8080/",
          "height": 122
        },
        "outputId": "40dd3b0e-af90-4cec-e340-0ba0372773a5"
      },
      "execution_count": 12,
      "outputs": [
        {
          "output_type": "display_data",
          "data": {
            "text/plain": [
              "<IPython.core.display.HTML object>"
            ],
            "text/html": [
              "<span class=\"tex2jax_ignore\"><div class=\"entities\" style=\"line-height: 2.5; direction: ltr\">\n",
              "<mark class=\"entity\" style=\"background: #7aecec; padding: 0.45em 0.6em; margin: 0 0.25em; line-height: 1; border-radius: 0.35em;\">\n",
              "    Market analysts\n",
              "    <span style=\"font-size: 0.8em; font-weight: bold; line-height: 1; border-radius: 0.35em; vertical-align: middle; margin-left: 0.5rem\">ORG</span>\n",
              "</mark>\n",
              " at \n",
              "<mark class=\"entity\" style=\"background: #aa9cfc; padding: 0.45em 0.6em; margin: 0 0.25em; line-height: 1; border-radius: 0.35em;\">\n",
              "    MorganEast Research\n",
              "    <span style=\"font-size: 0.8em; font-weight: bold; line-height: 1; border-radius: 0.35em; vertical-align: middle; margin-left: 0.5rem\">PERSON</span>\n",
              "</mark>\n",
              ", based in \n",
              "<mark class=\"entity\" style=\"background: #feca74; padding: 0.45em 0.6em; margin: 0 0.25em; line-height: 1; border-radius: 0.35em;\">\n",
              "    Singapore\n",
              "    <span style=\"font-size: 0.8em; font-weight: bold; line-height: 1; border-radius: 0.35em; vertical-align: middle; margin-left: 0.5rem\">GPE</span>\n",
              "</mark>\n",
              ", forecast that the \n",
              "<mark class=\"entity\" style=\"background: #feca74; padding: 0.45em 0.6em; margin: 0 0.25em; line-height: 1; border-radius: 0.35em;\">\n",
              "    Indian\n",
              "    <span style=\"font-size: 0.8em; font-weight: bold; line-height: 1; border-radius: 0.35em; vertical-align: middle; margin-left: 0.5rem\">GPE</span>\n",
              "</mark>\n",
              " digital lending sector will surpass \n",
              "<mark class=\"entity\" style=\"background: #e4e7d2; padding: 0.45em 0.6em; margin: 0 0.25em; line-height: 1; border-radius: 0.35em;\">\n",
              "    ₹1.8 lakh\n",
              "    <span style=\"font-size: 0.8em; font-weight: bold; line-height: 1; border-radius: 0.35em; vertical-align: middle; margin-left: 0.5rem\">MONEY</span>\n",
              "</mark>\n",
              " crore in transaction volume by \n",
              "<mark class=\"entity\" style=\"background: #bfe1d9; padding: 0.45em 0.6em; margin: 0 0.25em; line-height: 1; border-radius: 0.35em;\">\n",
              "    2027\n",
              "    <span style=\"font-size: 0.8em; font-weight: bold; line-height: 1; border-radius: 0.35em; vertical-align: middle; margin-left: 0.5rem\">DATE</span>\n",
              "</mark>\n",
              ", with Aurora capturing approximately \n",
              "<mark class=\"entity\" style=\"background: #aa9cfc; padding: 0.45em 0.6em; margin: 0 0.25em; line-height: 1; border-radius: 0.35em;\">\n",
              "    6.4%\n",
              "    <span style=\"font-size: 0.8em; font-weight: bold; line-height: 1; border-radius: 0.35em; vertical-align: middle; margin-left: 0.5rem\">PERSON</span>\n",
              "</mark>\n",
              " market share.</div></span>"
            ]
          },
          "metadata": {}
        }
      ]
    }
  ]
}