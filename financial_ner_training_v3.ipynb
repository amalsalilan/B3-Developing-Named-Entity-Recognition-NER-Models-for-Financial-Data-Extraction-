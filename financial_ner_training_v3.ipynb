{
  "nbformat": 4,
  "nbformat_minor": 0,
  "metadata": {
    "colab": {
      "provenance": [],
      "include_colab_link": true
    },
    "kernelspec": {
      "name": "python3",
      "display_name": "Python 3"
    },
    "language_info": {
      "name": "python"
    }
  },
  "cells": [
    {
      "cell_type": "markdown",
      "metadata": {
        "id": "view-in-github",
        "colab_type": "text"
      },
      "source": [
        "<a href=\"https://colab.research.google.com/github/amalsalilan/B3-Developing-Named-Entity-Recognition-NER-Models-for-Financial-Data-Extraction-/blob/Isha/financial_ner_training_v3.ipynb\" target=\"_parent\"><img src=\"https://colab.research.google.com/assets/colab-badge.svg\" alt=\"Open In Colab\"/></a>"
      ]
    },
    {
      "cell_type": "code",
      "execution_count": 27,
      "metadata": {
        "id": "uY1GpoSu7aMW"
      },
      "outputs": [],
      "source": [
        "! pip install -U spacy -q"
      ]
    },
    {
      "cell_type": "code",
      "source": [
        "\n",
        "!python -m spacy info"
      ],
      "metadata": {
        "id": "dsThVuO685l5",
        "colab": {
          "base_uri": "https://localhost:8080/"
        },
        "outputId": "cb9ea820-e1a0-41d7-f107-af00cac10730"
      },
      "execution_count": 28,
      "outputs": [
        {
          "output_type": "stream",
          "name": "stdout",
          "text": [
            "\u001b[1m\n",
            "============================== Info about spaCy ==============================\u001b[0m\n",
            "\n",
            "spaCy version    3.8.7                         \n",
            "Location         /usr/local/lib/python3.12/dist-packages/spacy\n",
            "Platform         Linux-6.6.105+-x86_64-with-glibc2.35\n",
            "Python version   3.12.12                       \n",
            "Pipelines        en_core_web_sm (3.8.0)        \n",
            "\n"
          ]
        }
      ]
    },
    {
      "cell_type": "code",
      "source": [
        "import spacy\n",
        "from spacy.tokens import DocBin\n",
        "from tqdm import tqdm\n",
        "\n",
        "nlp = spacy.blank(\"en\") # load a new spacy model\n",
        "db = DocBin() # create a DocBin object"
      ],
      "metadata": {
        "id": "CdLCS5Z48_Km"
      },
      "execution_count": 29,
      "outputs": []
    },
    {
      "cell_type": "code",
      "source": [
        "import json\n",
        "f = open('/content/annotations_i.json')\n",
        "TRAIN_DATA = json.load(f)"
      ],
      "metadata": {
        "id": "1HVmvmk39Faf"
      },
      "execution_count": 30,
      "outputs": []
    },
    {
      "cell_type": "code",
      "source": [
        "TRAIN_DATA"
      ],
      "metadata": {
        "colab": {
          "base_uri": "https://localhost:8080/"
        },
        "id": "t680GofiUVCg",
        "outputId": "4ad31a65-64c8-4bc2-8b12-d5115e747377"
      },
      "execution_count": 31,
      "outputs": [
        {
          "output_type": "execute_result",
          "data": {
            "text/plain": [
              "{'classes': ['DATE', 'ORG', 'PERSON', 'MONEY', 'PLACE', 'PERCENTAGE'],\n",
              " 'annotations': [['On March 12, 2025, BlueRock Capital Pvt. Ltd., headquartered in Mumbai, announced a ₹48.7 crore investment in Aurora FinTech Solutions, a Bangalore-based digital lending startup founded by Raghav Menon. The investment represents a 12.5% equity stake, making BlueRock one of Aurora’s major institutional backers. The company stated that the funding round was oversubscribed by nearly 40%, signaling strong investor confidence in Aurora’s AI-driven credit assessment platform.\\r',\n",
              "   {'entities': [[3, 17, 'DATE'],\n",
              "     [19, 45, 'ORG'],\n",
              "     [64, 70, 'PLACE'],\n",
              "     [84, 95, 'MONEY'],\n",
              "     [110, 134, 'ORG'],\n",
              "     [138, 153, 'PLACE'],\n",
              "     [189, 202, 'PERSON'],\n",
              "     [231, 236, 'PERCENTAGE'],\n",
              "     [258, 266, 'ORG'],\n",
              "     [274, 282, 'ORG'],\n",
              "     [383, 386, 'PERCENTAGE'],\n",
              "     [428, 436, 'ORG']]}],\n",
              "  None,\n",
              "  None,\n",
              "  ['According to Financial Insight Weekly, Aurora’s annual revenue grew from ₹26 crore in FY 2023–24 to ₹41 crore in FY 2024–25, marking a 57% year-over-year increase. The firm attributed this growth to the rapid adoption of its mobile-first micro-loan services across Tier-2 cities such as Indore, Kochi, and Nagpur. Chief Financial Officer Priya Deshmukh commented that the goal for FY 2025–26 is to cross ₹75 crore in revenue while maintaining operational profitability.\\r',\n",
              "   {'entities': [[39, 47, 'ORG'],\n",
              "     [73, 82, 'MONEY'],\n",
              "     [100, 109, 'MONEY'],\n",
              "     [135, 138, 'PERCENTAGE'],\n",
              "     [287, 293, 'PLACE'],\n",
              "     [295, 300, 'PLACE'],\n",
              "     [306, 313, 'PLACE'],\n",
              "     [338, 352, 'PERSON'],\n",
              "     [404, 413, 'MONEY']]}],\n",
              "  None,\n",
              "  None,\n",
              "  ['Meanwhile, Zenith Bank Ltd., one of Aurora’s key partners, entered into a five-year collaboration agreement valued at ₹120 crore on May 20, 2025. The partnership aims to expand credit access for small businesses in southern India, particularly in Hyderabad and Chennai. The deal stipulates that Zenith will receive a 3.2% commission on each approved loan, while Aurora retains full control of borrower analytics.\\r',\n",
              "   {'entities': [[11, 27, 'ORG'],\n",
              "     [36, 44, 'ORG'],\n",
              "     [118, 128, 'MONEY'],\n",
              "     [132, 145, 'DATE'],\n",
              "     [247, 256, 'PLACE'],\n",
              "     [261, 269, 'PLACE'],\n",
              "     [295, 301, 'ORG'],\n",
              "     [317, 321, 'PERCENTAGE'],\n",
              "     [362, 368, 'ORG']]}],\n",
              "  None,\n",
              "  None,\n",
              "  ['In a related development, SEBI released new compliance guidelines on July 1, 2025, requiring digital lenders to maintain a minimum capital adequacy ratio of 10%. Aurora FinTech confirmed that it currently holds a 12.7% ratio, comfortably above the regulatory minimum. However, Raghav Menon stated in an internal memo that the firm plans to raise an additional ₹15 crore by December 2025 to sustain liquidity amid expansion.\\r',\n",
              "   {'entities': [[26, 30, 'ORG'],\n",
              "     [69, 81, 'DATE'],\n",
              "     [157, 160, 'PERCENTAGE'],\n",
              "     [162, 176, 'ORG'],\n",
              "     [213, 218, 'PERCENTAGE'],\n",
              "     [277, 289, 'PERSON'],\n",
              "     [360, 369, 'MONEY'],\n",
              "     [373, 386, 'DATE']]}],\n",
              "  None,\n",
              "  None,\n",
              "  ['Market analysts at MorganEast Research, based in Singapore, forecast that the Indian digital lending sector will surpass ₹1.8 lakh crore in transaction volume by 2027, with Aurora capturing approximately 6.4% market share. Their report highlighted the firm’s disciplined loan recovery rate of 96.8% and strong investor governance. Lead analyst Meera Kapoor concluded that “if Aurora maintains its current trajectory, it could reach a valuation exceeding ₹600 crore within the next 24 months.”',\n",
              "   {'entities': [[19, 38, 'ORG'],\n",
              "     [49, 58, 'PLACE'],\n",
              "     [121, 136, 'MONEY'],\n",
              "     [162, 166, 'DATE'],\n",
              "     [204, 208, 'PERCENTAGE'],\n",
              "     [293, 298, 'PERCENTAGE'],\n",
              "     [344, 356, 'PERSON'],\n",
              "     [454, 464, 'MONEY']]}]]}"
            ]
          },
          "metadata": {},
          "execution_count": 31
        }
      ]
    },
    {
      "cell_type": "code",
      "source": [
        "for item in tqdm(TRAIN_DATA['annotations']):\n",
        "    if item is None:\n",
        "        print(\"Skipping None item\")\n",
        "        continue\n",
        "    text, annot = item\n",
        "    doc = nlp.make_doc(text)\n",
        "    ents = []\n",
        "    for start, end, label in annot[\"entities\"]:\n",
        "        span = doc.char_span(start, end, label=label, alignment_mode=\"contract\")\n",
        "        if span is None:\n",
        "            print(f\"Skipping entity for: {text[start:end]}\")\n",
        "        else:\n",
        "            ents.append(span)\n",
        "    doc.ents = ents\n",
        "    db.add(doc)\n",
        "db.to_disk(\"./training_data.spacy\")"
      ],
      "metadata": {
        "id": "MESUTK0P9wiH",
        "colab": {
          "base_uri": "https://localhost:8080/"
        },
        "outputId": "4360bb74-f044-47eb-d001-e3cccd551483"
      },
      "execution_count": 34,
      "outputs": [
        {
          "output_type": "stream",
          "name": "stderr",
          "text": [
            "100%|██████████| 13/13 [00:00<00:00, 2823.28it/s]"
          ]
        },
        {
          "output_type": "stream",
          "name": "stdout",
          "text": [
            "Skipping None item\n",
            "Skipping None item\n",
            "Skipping None item\n",
            "Skipping None item\n",
            "Skipping None item\n",
            "Skipping None item\n",
            "Skipping None item\n",
            "Skipping None item\n"
          ]
        },
        {
          "output_type": "stream",
          "name": "stderr",
          "text": [
            "\n"
          ]
        }
      ]
    },
    {
      "cell_type": "code",
      "source": [
        "! python -m spacy init config config.cfg --lang en --pipeline ner --optimize efficiency"
      ],
      "metadata": {
        "id": "IbNCEOO99HJ5",
        "colab": {
          "base_uri": "https://localhost:8080/"
        },
        "outputId": "d004820f-6756-4460-c9e5-909e066f509f"
      },
      "execution_count": 35,
      "outputs": [
        {
          "output_type": "stream",
          "name": "stdout",
          "text": [
            "\u001b[38;5;4mℹ Generated config template specific for your use case\u001b[0m\n",
            "- Language: en\n",
            "- Pipeline: ner\n",
            "- Optimize for: efficiency\n",
            "- Hardware: CPU\n",
            "- Transformer: None\n",
            "\u001b[38;5;2m✔ Auto-filled config with all values\u001b[0m\n",
            "\u001b[38;5;2m✔ Saved config\u001b[0m\n",
            "config.cfg\n",
            "You can now add your data and train your pipeline:\n",
            "python -m spacy train config.cfg --paths.train ./train.spacy --paths.dev ./dev.spacy\n"
          ]
        }
      ]
    },
    {
      "cell_type": "code",
      "source": [
        "! python -m spacy train config.cfg --output ./ --paths.train ./training_data.spacy --paths.dev ./training_data.spacy"
      ],
      "metadata": {
        "id": "pAw0_KF89KGS",
        "colab": {
          "base_uri": "https://localhost:8080/"
        },
        "outputId": "e0568d44-929b-4fb3-eeae-f08187bd21e0"
      },
      "execution_count": 36,
      "outputs": [
        {
          "output_type": "stream",
          "name": "stdout",
          "text": [
            "\u001b[38;5;4mℹ Saving to output directory: .\u001b[0m\n",
            "\u001b[38;5;4mℹ Using CPU\u001b[0m\n",
            "\u001b[1m\n",
            "=========================== Initializing pipeline ===========================\u001b[0m\n",
            "\u001b[38;5;2m✔ Initialized pipeline\u001b[0m\n",
            "\u001b[1m\n",
            "============================= Training pipeline =============================\u001b[0m\n",
            "\u001b[38;5;4mℹ Pipeline: ['tok2vec', 'ner']\u001b[0m\n",
            "\u001b[38;5;4mℹ Initial learn rate: 0.001\u001b[0m\n",
            "E    #       LOSS TOK2VEC  LOSS NER  ENTS_F  ENTS_P  ENTS_R  SCORE \n",
            "---  ------  ------------  --------  ------  ------  ------  ------\n",
            "  0       0          0.00     41.50    0.00    0.00    0.00    0.00\n",
            " 18     200        359.24   2190.62  100.00  100.00  100.00    1.00\n",
            " 36     400          0.12      0.11  100.00  100.00  100.00    1.00\n",
            " 62     600          0.00      0.00  100.00  100.00  100.00    1.00\n",
            " 97     800          0.00      0.00  100.00  100.00  100.00    1.00\n",
            "140    1000          0.00      0.00  100.00  100.00  100.00    1.00\n",
            "191    1200          0.00      0.00  100.00  100.00  100.00    1.00\n",
            "256    1400          0.00      0.00  100.00  100.00  100.00    1.00\n",
            "346    1600          0.00      0.00  100.00  100.00  100.00    1.00\n",
            "446    1800         67.54     24.09  100.00  100.00  100.00    1.00\n",
            "\u001b[38;5;2m✔ Saved pipeline to output directory\u001b[0m\n",
            "model-last\n"
          ]
        }
      ]
    },
    {
      "cell_type": "code",
      "source": [
        "nlp_ner = spacy.load(\"/content/model-best\")"
      ],
      "metadata": {
        "id": "54hyaa7k9L6t"
      },
      "execution_count": 37,
      "outputs": []
    },
    {
      "cell_type": "code",
      "source": [
        "doc = nlp_ner(\"Market analysts at MorganEast Research, based in Singapore, forecast that the Indian digital lending sector will surpass ₹1.8 lakh crore in transaction volume by 2027, with Aurora capturing approximately 6.4% market share.\")"
      ],
      "metadata": {
        "id": "aq37rwnr9N2m"
      },
      "execution_count": 38,
      "outputs": []
    },
    {
      "cell_type": "code",
      "source": [
        "spacy.displacy.render(doc, style=\"ent\", jupyter=True) # display in Jupyter"
      ],
      "metadata": {
        "id": "TbnhfIhe9WF6",
        "colab": {
          "base_uri": "https://localhost:8080/",
          "height": 122
        },
        "outputId": "2b4f138b-c5b3-4abc-a7af-224acbc62476"
      },
      "execution_count": 39,
      "outputs": [
        {
          "output_type": "display_data",
          "data": {
            "text/plain": [
              "<IPython.core.display.HTML object>"
            ],
            "text/html": [
              "<span class=\"tex2jax_ignore\"><div class=\"entities\" style=\"line-height: 2.5; direction: ltr\">Market analysts at \n",
              "<mark class=\"entity\" style=\"background: #7aecec; padding: 0.45em 0.6em; margin: 0 0.25em; line-height: 1; border-radius: 0.35em;\">\n",
              "    MorganEast Research\n",
              "    <span style=\"font-size: 0.8em; font-weight: bold; line-height: 1; border-radius: 0.35em; vertical-align: middle; margin-left: 0.5rem\">ORG</span>\n",
              "</mark>\n",
              ", based in \n",
              "<mark class=\"entity\" style=\"background: #ddd; padding: 0.45em 0.6em; margin: 0 0.25em; line-height: 1; border-radius: 0.35em;\">\n",
              "    Singapore\n",
              "    <span style=\"font-size: 0.8em; font-weight: bold; line-height: 1; border-radius: 0.35em; vertical-align: middle; margin-left: 0.5rem\">PLACE</span>\n",
              "</mark>\n",
              ", forecast that the Indian digital lending sector will surpass \n",
              "<mark class=\"entity\" style=\"background: #e4e7d2; padding: 0.45em 0.6em; margin: 0 0.25em; line-height: 1; border-radius: 0.35em;\">\n",
              "    ₹1.8 lakh crore\n",
              "    <span style=\"font-size: 0.8em; font-weight: bold; line-height: 1; border-radius: 0.35em; vertical-align: middle; margin-left: 0.5rem\">MONEY</span>\n",
              "</mark>\n",
              " in transaction volume by \n",
              "<mark class=\"entity\" style=\"background: #bfe1d9; padding: 0.45em 0.6em; margin: 0 0.25em; line-height: 1; border-radius: 0.35em;\">\n",
              "    2027\n",
              "    <span style=\"font-size: 0.8em; font-weight: bold; line-height: 1; border-radius: 0.35em; vertical-align: middle; margin-left: 0.5rem\">DATE</span>\n",
              "</mark>\n",
              ", with Aurora capturing approximately \n",
              "<mark class=\"entity\" style=\"background: #ddd; padding: 0.45em 0.6em; margin: 0 0.25em; line-height: 1; border-radius: 0.35em;\">\n",
              "    6.4%\n",
              "    <span style=\"font-size: 0.8em; font-weight: bold; line-height: 1; border-radius: 0.35em; vertical-align: middle; margin-left: 0.5rem\">PERCENTAGE</span>\n",
              "</mark>\n",
              " market share.</div></span>"
            ]
          },
          "metadata": {}
        }
      ]
    }
  ]
}