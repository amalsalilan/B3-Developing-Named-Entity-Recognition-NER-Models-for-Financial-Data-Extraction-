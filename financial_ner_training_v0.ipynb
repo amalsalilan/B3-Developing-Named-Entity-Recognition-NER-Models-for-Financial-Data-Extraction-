{
  "nbformat": 4,
  "nbformat_minor": 0,
  "metadata": {
    "colab": {
      "provenance": [],
      "include_colab_link": true
    },
    "kernelspec": {
      "name": "python3",
      "display_name": "Python 3"
    },
    "language_info": {
      "name": "python"
    }
  },
  "cells": [
    {
      "cell_type": "markdown",
      "metadata": {
        "id": "view-in-github",
        "colab_type": "text"
      },
      "source": [
        "<a href=\"https://colab.research.google.com/github/amalsalilan/B3-Developing-Named-Entity-Recognition-NER-Models-for-Financial-Data-Extraction-/blob/Naveen/financial_ner_training_v0.ipynb\" target=\"_parent\"><img src=\"https://colab.research.google.com/assets/colab-badge.svg\" alt=\"Open In Colab\"/></a>"
      ]
    },
    {
      "cell_type": "code",
      "execution_count": 2,
      "metadata": {
        "id": "uY1GpoSu7aMW"
      },
      "outputs": [],
      "source": [
        "! pip install -U spacy -q"
      ]
    },
    {
      "cell_type": "code",
      "source": [
        "\n",
        "!python -m spacy info"
      ],
      "metadata": {
        "id": "dsThVuO685l5",
        "colab": {
          "base_uri": "https://localhost:8080/"
        },
        "outputId": "5cd7412f-3e53-4ef5-aabc-dbe907a71723"
      },
      "execution_count": 3,
      "outputs": [
        {
          "output_type": "stream",
          "name": "stdout",
          "text": [
            "\u001b[1m\n",
            "============================== Info about spaCy ==============================\u001b[0m\n",
            "\n",
            "spaCy version    3.8.7                         \n",
            "Location         /usr/local/lib/python3.12/dist-packages/spacy\n",
            "Platform         Linux-6.6.105+-x86_64-with-glibc2.35\n",
            "Python version   3.12.12                       \n",
            "Pipelines        en_core_web_sm (3.8.0)        \n",
            "\n"
          ]
        }
      ]
    },
    {
      "cell_type": "code",
      "source": [
        "import spacy\n",
        "from spacy.tokens import DocBin\n",
        "from tqdm import tqdm\n",
        "\n",
        "nlp = spacy.blank(\"en\") # load a new spacy model\n",
        "db = DocBin() # create a DocBin object"
      ],
      "metadata": {
        "id": "CdLCS5Z48_Km"
      },
      "execution_count": 4,
      "outputs": []
    },
    {
      "cell_type": "code",
      "source": [
        "import json\n",
        "f = open('/content/Financial Insignts annotations.json')\n",
        "TRAIN_DATA = json.load(f)"
      ],
      "metadata": {
        "id": "1HVmvmk39Faf"
      },
      "execution_count": 6,
      "outputs": []
    },
    {
      "cell_type": "code",
      "source": [
        "TRAIN_DATA"
      ],
      "metadata": {
        "colab": {
          "base_uri": "https://localhost:8080/"
        },
        "id": "t680GofiUVCg",
        "outputId": "8a038b47-41ae-41ab-c61f-5cced4230ede"
      },
      "execution_count": 7,
      "outputs": [
        {
          "output_type": "execute_result",
          "data": {
            "text/plain": [
              "{'classes': ['TITLE',\n",
              "  'ORG',\n",
              "  'PERSON',\n",
              "  'DATE',\n",
              "  'MONEY',\n",
              "  'PERCENT',\n",
              "  'GPE',\n",
              "  'ACCOUNT',\n",
              "  'TICKER',\n",
              "  'PRODUCT',\n",
              "  'EVENT',\n",
              "  'EMAIL',\n",
              "  'SHARES/STOCKS'],\n",
              " 'annotations': [['🧾 Sample 1 – Corporate Earnings Report\\r',\n",
              "   {'entities': [[14, 39, 'TITLE']]}],\n",
              "  None,\n",
              "  ['On March 20, 2025, AstraNova Holdings Ltd announced its quarterly earnings from its Mumbai headquarters. According to CEO Kavita Menon, the company recorded a 12.4% increase in revenue, bringing the total to $78.6 million for the first quarter. Net profit stood at $9.2 million, compared to $8.1 million in the same period last year. The strong performance was attributed to its financial technology division, AstraPay, which secured new contracts with Delta Bank and Union Finance Corp in Singapore.\\r',\n",
              "   {'entities': [[3, 17, 'DATE'],\n",
              "     [19, 41, 'ORG'],\n",
              "     [84, 90, 'GPE'],\n",
              "     [122, 134, 'PERSON'],\n",
              "     [159, 164, 'PERCENT'],\n",
              "     [208, 221, 'MONEY'],\n",
              "     [265, 277, 'MONEY'],\n",
              "     [291, 303, 'MONEY'],\n",
              "     [410, 418, 'PRODUCT'],\n",
              "     [453, 463, 'ORG'],\n",
              "     [468, 486, 'ORG'],\n",
              "     [490, 499, 'GPE']]}],\n",
              "  ['\\r', {'entities': []}],\n",
              "  ['🏦 Sample 2 – Investment Transaction\\r', {'entities': [[14, 36, 'TITLE']]}],\n",
              "  ['\\r', {'entities': []}],\n",
              "  ['On July 5, 2025, investor Rahul Deshmukh transferred ₹1,200,000 from his savings account ACC-772301 at HDFC Bank to purchase 2,000 shares of BlueOcean Energy Ltd (ticker BOEN) at ₹600 per share. The transaction was executed through GrowInvest Securities, a brokerage based in Bengaluru. Later that week, BlueOcean’s share price rose by 6.8%, resulting in a notional gain of about ₹81,600 for Rahul. He mentioned that he plans to hold the stock until at least December 2025, anticipating a dividend announcement.\\r',\n",
              "   {'entities': [[3, 15, 'DATE'],\n",
              "     [26, 40, 'PERSON'],\n",
              "     [53, 63, 'MONEY'],\n",
              "     [89, 99, 'ACCOUNT'],\n",
              "     [103, 112, 'ORG'],\n",
              "     [125, 130, 'SHARES/STOCKS'],\n",
              "     [141, 175, 'TICKER'],\n",
              "     [179, 183, 'MONEY'],\n",
              "     [232, 253, 'ORG'],\n",
              "     [276, 286, 'GPE'],\n",
              "     [304, 315, 'ORG'],\n",
              "     [336, 340, 'PERCENT'],\n",
              "     [380, 387, 'MONEY'],\n",
              "     [392, 398, 'PERSON'],\n",
              "     [459, 472, 'DATE']]}],\n",
              "  ['\\r', {'entities': []}],\n",
              "  ['💰 Sample 3 – Loan and Credit Report\\r', {'entities': [[14, 36, 'TITLE']]}],\n",
              "  ['\\r', {'entities': []}],\n",
              "  ['Crestline Finance Pvt. Ltd. issued a business loan to SilverGrid Analytics on February 10, 2024, amounting to $250,000 at an annual interest rate of 7.5%. The agreement, signed by Managing Director Ananya Rao, states that the first EMI of $5,000 is due on March 15, 2024. During the audit conducted by M. Joseph & Co. on June 30, 2025, it was noted that SilverGrid had repaid $180,000 to date, leaving an outstanding balance of $70,000. The auditors recommended restructuring the repayment schedule to improve liquidity.\\r',\n",
              "   {'entities': [[0, 27, 'ORG'],\n",
              "     [54, 74, 'ORG'],\n",
              "     [78, 95, 'DATE'],\n",
              "     [110, 118, 'MONEY'],\n",
              "     [149, 153, 'PERCENT'],\n",
              "     [198, 208, 'PERSON'],\n",
              "     [239, 245, 'MONEY'],\n",
              "     [256, 271, 'DATE'],\n",
              "     [302, 317, 'ORG'],\n",
              "     [321, 334, 'DATE'],\n",
              "     [354, 364, 'ORG'],\n",
              "     [376, 384, 'MONEY'],\n",
              "     [428, 436, 'MONEY']]}],\n",
              "  ['\\r', {'entities': []}],\n",
              "  ['📈 Sample 4 – Financial News Article\\r', {'entities': [[14, 36, 'TITLE']]}],\n",
              "  ['\\r', {'entities': []}],\n",
              "  ['New York, April 18, 2025 — Shares of Vertex Biocare Inc. (NASDAQ: VBCI) climbed 9.3% in early trading after the company revealed it had secured a $50 million funding round from Everline Partners. The investment will support the expansion of its vaccine manufacturing plant in Boston, Massachusetts. In a press release, CFO Emily Chen said the funds will be allocated toward R&D and facility upgrades. Analysts at Morgan Finch Research upgraded the stock’s target price from $22 to $28 following the announcement.\\r',\n",
              "   {'entities': [[0, 8, 'GPE'],\n",
              "     [10, 24, 'DATE'],\n",
              "     [37, 71, 'TICKER'],\n",
              "     [80, 84, 'PERCENT'],\n",
              "     [146, 157, 'MONEY'],\n",
              "     [177, 195, 'ORG'],\n",
              "     [276, 282, 'GPE'],\n",
              "     [284, 298, 'GPE'],\n",
              "     [323, 333, 'PERSON'],\n",
              "     [413, 434, 'ORG'],\n",
              "     [474, 477, 'MONEY'],\n",
              "     [481, 484, 'MONEY']]}],\n",
              "  ['\\r', {'entities': []}],\n",
              "  ['🧮 Sample 5 – Financial Audit Narrative\\r',\n",
              "   {'entities': [[14, 39, 'TITLE']]}],\n",
              "  ['\\r', {'entities': []}],\n",
              "  ['During the annual financial audit of Riverstone Textiles Ltd conducted on August 12, 2025, auditors discovered discrepancies in the petty cash account managed by Accountant Deepak Sharma. An amount of ₹48,500 was unaccounted for between May and June 2025, allegedly due to delayed supplier reimbursements. The board requested an internal review by Omkar Consultants, who later confirmed the missing funds were reimbursed on September 3, 2025. The company’s total revenue for FY2025 was reported at ₹78.4 crore, reflecting a 5% year-over-year increase.',\n",
              "   {'entities': [[37, 60, 'ORG'],\n",
              "     [74, 89, 'DATE'],\n",
              "     [173, 187, 'PERSON'],\n",
              "     [201, 208, 'MONEY'],\n",
              "     [237, 240, 'MONEY'],\n",
              "     [245, 254, 'MONEY'],\n",
              "     [348, 365, 'ORG'],\n",
              "     [424, 442, 'DATE'],\n",
              "     [475, 481, 'DATE'],\n",
              "     [498, 509, 'MONEY'],\n",
              "     [524, 526, 'PERCENT']]}],\n",
              "  ['During the annual financial audit of Riverstone Textiles Ltd conducted on August 12, 2025, auditors discovered discrepancies in the petty cash account managed by Accountant Deepak Sharma. An amount of ₹48,500 was unaccounted for between May and June 2025, allegedly due to delayed supplier reimbursements. The board requested an internal review by Omkar Consultants, who later confirmed the missing funds were reimbursed on September 3, 2025. The company’s total revenue for FY2025 was reported at ₹78.4 crore, reflecting a 5% year-over-year increase.',\n",
              "   {'entities': [[37, 60, 'ORG'],\n",
              "     [74, 89, 'DATE'],\n",
              "     [173, 187, 'PERSON'],\n",
              "     [201, 208, 'MONEY'],\n",
              "     [237, 240, 'MONEY'],\n",
              "     [245, 254, 'MONEY'],\n",
              "     [348, 365, 'ORG'],\n",
              "     [424, 442, 'DATE'],\n",
              "     [475, 481, 'DATE'],\n",
              "     [498, 509, 'MONEY'],\n",
              "     [524, 526, 'PERCENT']]}]]}"
            ]
          },
          "metadata": {},
          "execution_count": 7
        }
      ]
    },
    {
      "cell_type": "code",
      "source": [
        "for item in tqdm(TRAIN_DATA['annotations']):\n",
        "    if item is None:\n",
        "        print(\"Skipping None item\")\n",
        "        continue\n",
        "    text, annot = item\n",
        "    doc = nlp.make_doc(text)\n",
        "    ents = []\n",
        "    for start, end, label in annot[\"entities\"]:\n",
        "        span = doc.char_span(start, end, label=label, alignment_mode=\"contract\")\n",
        "        if span is None:\n",
        "            print(\"Skipping entity\")\n",
        "        else:\n",
        "            ents.append(span)\n",
        "    doc.ents = ents\n",
        "    db.add(doc)\n",
        "\n",
        "db.to_disk(\"./training_data.spacy\")"
      ],
      "metadata": {
        "id": "MESUTK0P9wiH",
        "colab": {
          "base_uri": "https://localhost:8080/"
        },
        "outputId": "42a9e09b-4eb0-4b48-9815-dc13a8772272"
      },
      "execution_count": 8,
      "outputs": [
        {
          "output_type": "stream",
          "name": "stderr",
          "text": [
            "100%|██████████| 20/20 [00:00<00:00, 1139.79it/s]"
          ]
        },
        {
          "output_type": "stream",
          "name": "stdout",
          "text": [
            "Skipping None item\n"
          ]
        },
        {
          "output_type": "stream",
          "name": "stderr",
          "text": [
            "\n"
          ]
        }
      ]
    },
    {
      "cell_type": "code",
      "source": [
        "! python -m spacy init config config.cfg --lang en --pipeline ner --optimize efficiency"
      ],
      "metadata": {
        "id": "IbNCEOO99HJ5",
        "colab": {
          "base_uri": "https://localhost:8080/"
        },
        "outputId": "fe868400-68c5-4de1-a351-ff844701d146"
      },
      "execution_count": 9,
      "outputs": [
        {
          "output_type": "stream",
          "name": "stdout",
          "text": [
            "\u001b[38;5;3m⚠ To generate a more effective transformer-based config (GPU-only),\n",
            "install the spacy-transformers package and re-run this command. The config\n",
            "generated now does not use transformers.\u001b[0m\n",
            "\u001b[38;5;4mℹ Generated config template specific for your use case\u001b[0m\n",
            "- Language: en\n",
            "- Pipeline: ner\n",
            "- Optimize for: efficiency\n",
            "- Hardware: CPU\n",
            "- Transformer: None\n",
            "\u001b[38;5;2m✔ Auto-filled config with all values\u001b[0m\n",
            "\u001b[38;5;2m✔ Saved config\u001b[0m\n",
            "config.cfg\n",
            "You can now add your data and train your pipeline:\n",
            "python -m spacy train config.cfg --paths.train ./train.spacy --paths.dev ./dev.spacy\n"
          ]
        }
      ]
    },
    {
      "cell_type": "code",
      "source": [
        "! python -m spacy train config.cfg --output ./ --paths.train ./training_data.spacy --paths.dev ./training_data.spacy"
      ],
      "metadata": {
        "id": "pAw0_KF89KGS",
        "colab": {
          "base_uri": "https://localhost:8080/"
        },
        "outputId": "c5daea94-6ec2-4f00-cddc-73313fe6158c"
      },
      "execution_count": 10,
      "outputs": [
        {
          "output_type": "stream",
          "name": "stdout",
          "text": [
            "\u001b[38;5;4mℹ Saving to output directory: .\u001b[0m\n",
            "\u001b[38;5;4mℹ Using CPU\u001b[0m\n",
            "\u001b[1m\n",
            "=========================== Initializing pipeline ===========================\u001b[0m\n",
            "\u001b[38;5;2m✔ Initialized pipeline\u001b[0m\n",
            "\u001b[1m\n",
            "============================= Training pipeline =============================\u001b[0m\n",
            "\u001b[38;5;4mℹ Pipeline: ['tok2vec', 'ner']\u001b[0m\n",
            "\u001b[38;5;4mℹ Initial learn rate: 0.001\u001b[0m\n",
            "E    #       LOSS TOK2VEC  LOSS NER  ENTS_F  ENTS_P  ENTS_R  SCORE \n",
            "---  ------  ------------  --------  ------  ------  ------  ------\n",
            "  0       0          0.00     64.02    0.00    0.00    0.00    0.00\n",
            " 29     200       3322.06   3716.92  100.00  100.00  100.00    1.00\n",
            " 62     400          2.21      3.07  100.00  100.00  100.00    1.00\n",
            " 97     600          0.00      0.00  100.00  100.00  100.00    1.00\n",
            "145     800          0.02      0.01  100.00  100.00  100.00    1.00\n",
            "212    1000          0.00      0.00  100.00  100.00  100.00    1.00\n",
            "286    1200          0.00      0.00  100.00  100.00  100.00    1.00\n",
            "386    1400          0.00      0.00  100.00  100.00  100.00    1.00\n",
            "486    1600          0.00      0.00  100.00  100.00  100.00    1.00\n",
            "647    1800          0.00      0.00  100.00  100.00  100.00    1.00\n",
            "\u001b[38;5;2m✔ Saved pipeline to output directory\u001b[0m\n",
            "model-last\n"
          ]
        }
      ]
    },
    {
      "cell_type": "code",
      "source": [
        "nlp_ner = spacy.load(\"/content/model-best\")"
      ],
      "metadata": {
        "id": "54hyaa7k9L6t"
      },
      "execution_count": 11,
      "outputs": []
    },
    {
      "cell_type": "code",
      "source": [
        "doc = nlp_ner(\"Market analysts at MorganEast Research, based in Singapore, forecast that the Indian digital lending sector will surpass ₹1.8 lakh crore in transaction volume by 2027, with Aurora capturing approximately 6.4% market share.\")"
      ],
      "metadata": {
        "id": "aq37rwnr9N2m"
      },
      "execution_count": 12,
      "outputs": []
    },
    {
      "cell_type": "code",
      "source": [
        "spacy.displacy.render(doc, style=\"ent\", jupyter=True) # display in Jupyter"
      ],
      "metadata": {
        "id": "TbnhfIhe9WF6",
        "colab": {
          "base_uri": "https://localhost:8080/",
          "height": 87
        },
        "outputId": "dd77301a-2541-4e40-c169-b82540ff2f88"
      },
      "execution_count": 13,
      "outputs": [
        {
          "output_type": "display_data",
          "data": {
            "text/plain": [
              "<IPython.core.display.HTML object>"
            ],
            "text/html": [
              "<span class=\"tex2jax_ignore\"><div class=\"entities\" style=\"line-height: 2.5; direction: ltr\">\n",
              "<mark class=\"entity\" style=\"background: #bfe1d9; padding: 0.45em 0.6em; margin: 0 0.25em; line-height: 1; border-radius: 0.35em;\">\n",
              "    Market analysts\n",
              "    <span style=\"font-size: 0.8em; font-weight: bold; line-height: 1; border-radius: 0.35em; vertical-align: middle; margin-left: 0.5rem\">DATE</span>\n",
              "</mark>\n",
              " at \n",
              "<mark class=\"entity\" style=\"background: #7aecec; padding: 0.45em 0.6em; margin: 0 0.25em; line-height: 1; border-radius: 0.35em;\">\n",
              "    MorganEast Research\n",
              "    <span style=\"font-size: 0.8em; font-weight: bold; line-height: 1; border-radius: 0.35em; vertical-align: middle; margin-left: 0.5rem\">ORG</span>\n",
              "</mark>\n",
              ", based in \n",
              "<mark class=\"entity\" style=\"background: #feca74; padding: 0.45em 0.6em; margin: 0 0.25em; line-height: 1; border-radius: 0.35em;\">\n",
              "    Singapore\n",
              "    <span style=\"font-size: 0.8em; font-weight: bold; line-height: 1; border-radius: 0.35em; vertical-align: middle; margin-left: 0.5rem\">GPE</span>\n",
              "</mark>\n",
              ", forecast that the Indian digital lending sector will surpass \n",
              "<mark class=\"entity\" style=\"background: #e4e7d2; padding: 0.45em 0.6em; margin: 0 0.25em; line-height: 1; border-radius: 0.35em;\">\n",
              "    ₹1.8\n",
              "    <span style=\"font-size: 0.8em; font-weight: bold; line-height: 1; border-radius: 0.35em; vertical-align: middle; margin-left: 0.5rem\">MONEY</span>\n",
              "</mark>\n",
              " lakh crore in transaction volume by 2027, with Aurora capturing approximately \n",
              "<mark class=\"entity\" style=\"background: #e4e7d2; padding: 0.45em 0.6em; margin: 0 0.25em; line-height: 1; border-radius: 0.35em;\">\n",
              "    6.4%\n",
              "    <span style=\"font-size: 0.8em; font-weight: bold; line-height: 1; border-radius: 0.35em; vertical-align: middle; margin-left: 0.5rem\">PERCENT</span>\n",
              "</mark>\n",
              " market share.</div></span>"
            ]
          },
          "metadata": {}
        }
      ]
    }
  ]
}