{
  "nbformat": 4,
  "nbformat_minor": 0,
  "metadata": {
    "colab": {
      "provenance": []
    },
    "kernelspec": {
      "name": "python3",
      "display_name": "Python 3"
    },
    "language_info": {
      "name": "python"
    }
  },
  "cells": [
    {
      "cell_type": "code",
      "execution_count": 1,
      "metadata": {
        "id": "m380tdiUjIXH"
      },
      "outputs": [],
      "source": [
        "! pip install -U spacy -q"
      ]
    },
    {
      "cell_type": "code",
      "source": [
        "!python -m spacy info"
      ],
      "metadata": {
        "colab": {
          "base_uri": "https://localhost:8080/"
        },
        "id": "wthwRL3XjK2h",
        "outputId": "59217194-497e-4128-cf99-3e353c915102"
      },
      "execution_count": 2,
      "outputs": [
        {
          "output_type": "stream",
          "name": "stdout",
          "text": [
            "\u001b[1m\n",
            "============================== Info about spaCy ==============================\u001b[0m\n",
            "\n",
            "spaCy version    3.8.7                         \n",
            "Location         /usr/local/lib/python3.12/dist-packages/spacy\n",
            "Platform         Linux-6.6.105+-x86_64-with-glibc2.35\n",
            "Python version   3.12.12                       \n",
            "Pipelines        en_core_web_sm (3.8.0)        \n",
            "\n"
          ]
        }
      ]
    },
    {
      "cell_type": "code",
      "source": [
        "import spacy\n",
        "from spacy.tokens import DocBin\n",
        "from tqdm import tqdm\n",
        "\n",
        "nlp = spacy.blank(\"en\") # load a new spacy model\n",
        "db = DocBin() # create a DocBin object"
      ],
      "metadata": {
        "id": "9BOd7G2rjM5H"
      },
      "execution_count": 3,
      "outputs": []
    },
    {
      "cell_type": "code",
      "source": [
        "import json\n",
        "f = open('/content/annotations.json')\n",
        "TRAIN_DATA = json.load(f)"
      ],
      "metadata": {
        "id": "GFC7KuuwjOf3"
      },
      "execution_count": 4,
      "outputs": []
    },
    {
      "cell_type": "code",
      "source": [
        "TRAIN_DATA"
      ],
      "metadata": {
        "colab": {
          "base_uri": "https://localhost:8080/"
        },
        "id": "mL2DOk16jUJr",
        "outputId": "9007759d-c316-4103-8d8c-025dcc971a9e"
      },
      "execution_count": 5,
      "outputs": [
        {
          "output_type": "execute_result",
          "data": {
            "text/plain": [
              "{'classes': ['ORG',\n",
              "  'DATE',\n",
              "  'MONEY',\n",
              "  'PERCENT',\n",
              "  'PRODUCT',\n",
              "  'SEGMENT',\n",
              "  'LOCATION',\n",
              "  'DEPARTMENT',\n",
              "  'TECHNOLOGY'],\n",
              " 'annotations': [['Apple Inc. reported strong financial performance for the fourth quarter of FY2025, with total revenue reaching $97.4 billion, marking a 6.8% year-over-year increase driven primarily by higher iPhone and Services sales. The company’s net income stood at $24.6 billion, supported by robust demand across North America and Asia-Pacific regions, despite ongoing global supply chain constraints.\\r',\n",
              "   {'entities': [[0, 10, 'ORG'],\n",
              "     [57, 81, 'DATE'],\n",
              "     [111, 124, 'MONEY'],\n",
              "     [136, 140, 'PERCENT'],\n",
              "     [192, 198, 'PRODUCT'],\n",
              "     [203, 218, 'SEGMENT'],\n",
              "     [253, 266, 'MONEY'],\n",
              "     [302, 315, 'LOCATION'],\n",
              "     [320, 332, 'LOCATION']]}],\n",
              "  ['Operating expenses rose modestly by 3.2%, mainly due to increased R&D spending on artificial intelligence and wearable technologies. Apple also announced a $20 billion share repurchase program, reflecting continued confidence in its long-term growth and cash flow stability.',\n",
              "   {'entities': [[36, 40, 'PERCENT'],\n",
              "     [66, 69, 'DEPARTMENT'],\n",
              "     [82, 105, 'TECHNOLOGY'],\n",
              "     [110, 132, 'TECHNOLOGY'],\n",
              "     [133, 138, 'ORG'],\n",
              "     [156, 167, 'MONEY']]}],\n",
              "  ['Market analysts at MorganEast Research, based in Singapore, forecast that the Indian digital lending sector will surpass ₹1.8 lakh crore in transaction volume by 2027, with Aurora capturing approximately 6.4% market share.',\n",
              "   {'entities': [[23, 43, 'ORG'],\n",
              "     [54, 63, 'LOCATION'],\n",
              "     [118, 135, 'MONEY'],\n",
              "     [160, 164, 'DATE'],\n",
              "     [170, 176, 'ORG'],\n",
              "     [201, 205, 'PERCENT']]}]]}"
            ]
          },
          "metadata": {},
          "execution_count": 5
        }
      ]
    },
    {
      "cell_type": "code",
      "source": [
        "for text, annot in tqdm(TRAIN_DATA['annotations']):\n",
        "    doc = nlp.make_doc(text)\n",
        "    ents = []\n",
        "    for start, end, label in annot[\"entities\"]:\n",
        "        span = doc.char_span(start, end, label=label, alignment_mode=\"contract\")\n",
        "        if span is None:\n",
        "            print(\"Skipping entity\")\n",
        "        else:\n",
        "            ents.append(span)\n",
        "    doc.ents = ents\n",
        "    db.add(doc)\n",
        "    db.to_disk(\"./training_data.spacy\")\n"
      ],
      "metadata": {
        "colab": {
          "base_uri": "https://localhost:8080/"
        },
        "id": "aIkRFaOIjWKI",
        "outputId": "2a3c723d-5188-4b0d-c324-64ea3a467022"
      },
      "execution_count": 6,
      "outputs": [
        {
          "output_type": "stream",
          "name": "stderr",
          "text": [
            "100%|██████████| 3/3 [00:00<00:00, 215.29it/s]"
          ]
        },
        {
          "output_type": "stream",
          "name": "stdout",
          "text": [
            "Skipping entity\n",
            "Skipping entity\n",
            "Skipping entity\n"
          ]
        },
        {
          "output_type": "stream",
          "name": "stderr",
          "text": [
            "\n"
          ]
        }
      ]
    },
    {
      "cell_type": "code",
      "source": [
        "! python -m spacy init config config.cfg --lang en --pipeline ner --optimize efficiency"
      ],
      "metadata": {
        "colab": {
          "base_uri": "https://localhost:8080/"
        },
        "id": "EIsEsM3AjYij",
        "outputId": "5081d0eb-9e5e-4a6c-a4c8-49be4589dde5"
      },
      "execution_count": 7,
      "outputs": [
        {
          "output_type": "stream",
          "name": "stdout",
          "text": [
            "\u001b[38;5;3m⚠ To generate a more effective transformer-based config (GPU-only),\n",
            "install the spacy-transformers package and re-run this command. The config\n",
            "generated now does not use transformers.\u001b[0m\n",
            "\u001b[38;5;4mℹ Generated config template specific for your use case\u001b[0m\n",
            "- Language: en\n",
            "- Pipeline: ner\n",
            "- Optimize for: efficiency\n",
            "- Hardware: CPU\n",
            "- Transformer: None\n",
            "\u001b[38;5;2m✔ Auto-filled config with all values\u001b[0m\n",
            "\u001b[38;5;2m✔ Saved config\u001b[0m\n",
            "config.cfg\n",
            "You can now add your data and train your pipeline:\n",
            "python -m spacy train config.cfg --paths.train ./train.spacy --paths.dev ./dev.spacy\n"
          ]
        }
      ]
    },
    {
      "cell_type": "code",
      "source": [
        "! python -m spacy train config.cfg --output ./ --paths.train ./training_data.spacy --paths.dev ./training_data.spacy"
      ],
      "metadata": {
        "colab": {
          "base_uri": "https://localhost:8080/"
        },
        "id": "hGCP6iSSjamp",
        "outputId": "9c125908-7437-4297-fd12-c971523143b7"
      },
      "execution_count": 8,
      "outputs": [
        {
          "output_type": "stream",
          "name": "stdout",
          "text": [
            "\u001b[38;5;4mℹ Saving to output directory: .\u001b[0m\n",
            "\u001b[38;5;4mℹ Using CPU\u001b[0m\n",
            "\u001b[1m\n",
            "=========================== Initializing pipeline ===========================\u001b[0m\n",
            "\u001b[38;5;2m✔ Initialized pipeline\u001b[0m\n",
            "\u001b[1m\n",
            "============================= Training pipeline =============================\u001b[0m\n",
            "\u001b[38;5;4mℹ Pipeline: ['tok2vec', 'ner']\u001b[0m\n",
            "\u001b[38;5;4mℹ Initial learn rate: 0.001\u001b[0m\n",
            "E    #       LOSS TOK2VEC  LOSS NER  ENTS_F  ENTS_P  ENTS_R  SCORE \n",
            "---  ------  ------------  --------  ------  ------  ------  ------\n",
            "  0       0          0.00     40.08    0.00    0.00    0.00    0.00\n",
            "100     200        755.60   2108.75  100.00  100.00  100.00    1.00\n",
            "268     400          0.00      0.00  100.00  100.00  100.00    1.00\n",
            "468     600          0.00      0.00  100.00  100.00  100.00    1.00\n",
            "668     800          0.00      0.00  100.00  100.00  100.00    1.00\n",
            "868    1000          0.00      0.00  100.00  100.00  100.00    1.00\n",
            "1068    1200          0.00      0.00  100.00  100.00  100.00    1.00\n",
            "1268    1400          0.00      0.00  100.00  100.00  100.00    1.00\n",
            "1468    1600          0.00      0.00  100.00  100.00  100.00    1.00\n",
            "1668    1800          0.00      0.00  100.00  100.00  100.00    1.00\n",
            "\u001b[38;5;2m✔ Saved pipeline to output directory\u001b[0m\n",
            "model-last\n"
          ]
        }
      ]
    },
    {
      "cell_type": "code",
      "source": [
        "nlp_ner = spacy.load(\"/content/model-best\")"
      ],
      "metadata": {
        "id": "Vrd2Eue_jfhn"
      },
      "execution_count": 9,
      "outputs": []
    },
    {
      "cell_type": "code",
      "source": [
        "doc = nlp_ner(\"AstraFin Technologies Pvt. Ltd. posted revenue of ₹98.4 crore, marking a 7.2% increase over ₹91.8 crore recorded in Q1 FY2024. The growth was fueled by higher adoption of its fintech SaaS platform and expanded partnerships with regional banks. Operating profit stood at ₹18.6 crore, while net profit rose 6.1% year-over-year to ₹12.4 crore. The company attributed the margin improvement to reduced marketing expenditure and automation-driven cost savings.\")"
      ],
      "metadata": {
        "id": "rKh512Itjhaz"
      },
      "execution_count": 24,
      "outputs": []
    },
    {
      "cell_type": "code",
      "source": [
        "spacy.displacy.render(doc, style=\"ent\", jupyter=True) # display in Jupyter"
      ],
      "metadata": {
        "colab": {
          "base_uri": "https://localhost:8080/",
          "height": 177
        },
        "id": "77TcpJwljjJJ",
        "outputId": "07b6c136-f591-4a20-cf90-c69923b5c696"
      },
      "execution_count": 25,
      "outputs": [
        {
          "output_type": "display_data",
          "data": {
            "text/plain": [
              "<IPython.core.display.HTML object>"
            ],
            "text/html": [
              "<span class=\"tex2jax_ignore\"><div class=\"entities\" style=\"line-height: 2.5; direction: ltr\">\n",
              "<mark class=\"entity\" style=\"background: #7aecec; padding: 0.45em 0.6em; margin: 0 0.25em; line-height: 1; border-radius: 0.35em;\">\n",
              "    AstraFin\n",
              "    <span style=\"font-size: 0.8em; font-weight: bold; line-height: 1; border-radius: 0.35em; vertical-align: middle; margin-left: 0.5rem\">ORG</span>\n",
              "</mark>\n",
              " Technologies Pvt. Ltd. posted revenue of \n",
              "<mark class=\"entity\" style=\"background: #e4e7d2; padding: 0.45em 0.6em; margin: 0 0.25em; line-height: 1; border-radius: 0.35em;\">\n",
              "    ₹98.4 crore\n",
              "    <span style=\"font-size: 0.8em; font-weight: bold; line-height: 1; border-radius: 0.35em; vertical-align: middle; margin-left: 0.5rem\">MONEY</span>\n",
              "</mark>\n",
              ", marking a \n",
              "<mark class=\"entity\" style=\"background: #e4e7d2; padding: 0.45em 0.6em; margin: 0 0.25em; line-height: 1; border-radius: 0.35em;\">\n",
              "    7.2%\n",
              "    <span style=\"font-size: 0.8em; font-weight: bold; line-height: 1; border-radius: 0.35em; vertical-align: middle; margin-left: 0.5rem\">PERCENT</span>\n",
              "</mark>\n",
              " increase over \n",
              "<mark class=\"entity\" style=\"background: #e4e7d2; padding: 0.45em 0.6em; margin: 0 0.25em; line-height: 1; border-radius: 0.35em;\">\n",
              "    ₹91.8 crore\n",
              "    <span style=\"font-size: 0.8em; font-weight: bold; line-height: 1; border-radius: 0.35em; vertical-align: middle; margin-left: 0.5rem\">MONEY</span>\n",
              "</mark>\n",
              " recorded in Q1 FY2024. The growth was fueled by higher adoption of its fintech SaaS platform and expanded partnerships with regional banks. Operating profit stood at \n",
              "<mark class=\"entity\" style=\"background: #e4e7d2; padding: 0.45em 0.6em; margin: 0 0.25em; line-height: 1; border-radius: 0.35em;\">\n",
              "    ₹18.6 crore\n",
              "    <span style=\"font-size: 0.8em; font-weight: bold; line-height: 1; border-radius: 0.35em; vertical-align: middle; margin-left: 0.5rem\">MONEY</span>\n",
              "</mark>\n",
              ", while net profit rose 6.1% year-over-year to \n",
              "<mark class=\"entity\" style=\"background: #e4e7d2; padding: 0.45em 0.6em; margin: 0 0.25em; line-height: 1; border-radius: 0.35em;\">\n",
              "    ₹12.4 crore\n",
              "    <span style=\"font-size: 0.8em; font-weight: bold; line-height: 1; border-radius: 0.35em; vertical-align: middle; margin-left: 0.5rem\">MONEY</span>\n",
              "</mark>\n",
              ". The company attributed the margin improvement to reduced marketing expenditure and automation-driven cost savings.</div></span>"
            ]
          },
          "metadata": {}
        }
      ]
    },
    {
      "cell_type": "code",
      "source": [],
      "metadata": {
        "id": "y1RZ5qdFjmYd"
      },
      "execution_count": null,
      "outputs": []
    }
  ]
}