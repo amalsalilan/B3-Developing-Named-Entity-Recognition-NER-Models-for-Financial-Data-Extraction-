{
  "nbformat": 4,
  "nbformat_minor": 0,
  "metadata": {
    "colab": {
      "provenance": []
    },
    "kernelspec": {
      "name": "python3",
      "display_name": "Python 3"
    },
    "language_info": {
      "name": "python"
    }
  },
  "cells": [
    {
      "cell_type": "code",
      "execution_count": 1,
      "metadata": {
        "id": "rXdgc-fpL660"
      },
      "outputs": [],
      "source": [
        "! pip install -U spacy -q"
      ]
    },
    {
      "cell_type": "code",
      "source": [
        "!python -m spacy info"
      ],
      "metadata": {
        "colab": {
          "base_uri": "https://localhost:8080/"
        },
        "id": "zDSG_Y_mL98y",
        "outputId": "57118c10-8824-4e73-ab6b-d7ff40c57e4c"
      },
      "execution_count": 2,
      "outputs": [
        {
          "output_type": "stream",
          "name": "stdout",
          "text": [
            "\u001b[1m\n",
            "============================== Info about spaCy ==============================\u001b[0m\n",
            "\n",
            "spaCy version    3.8.7                         \n",
            "Location         /usr/local/lib/python3.12/dist-packages/spacy\n",
            "Platform         Linux-6.6.105+-x86_64-with-glibc2.35\n",
            "Python version   3.12.12                       \n",
            "Pipelines        en_core_web_sm (3.8.0)        \n",
            "\n"
          ]
        }
      ]
    },
    {
      "cell_type": "code",
      "source": [
        "import spacy\n",
        "from spacy.tokens import DocBin\n",
        "from tqdm import tqdm\n",
        "\n",
        "nlp = spacy.blank(\"en\") # load a new spacy model\n",
        "db = DocBin() # create a DocBin object"
      ],
      "metadata": {
        "id": "-2o1pfmjMHUo"
      },
      "execution_count": 3,
      "outputs": []
    },
    {
      "cell_type": "code",
      "source": [
        "import json\n",
        "f = open('/content/finance_ner_dataset.json')\n",
        "TRAIN_DATA = json.load(f)"
      ],
      "metadata": {
        "id": "Mq0cDAvRMSJF"
      },
      "execution_count": 4,
      "outputs": []
    },
    {
      "cell_type": "code",
      "source": [
        "TRAIN_DATA"
      ],
      "metadata": {
        "colab": {
          "base_uri": "https://localhost:8080/"
        },
        "id": "6Szn52ABMdUO",
        "outputId": "20f84bd6-0f60-44aa-ae03-bae30a0e2b9c"
      },
      "execution_count": 5,
      "outputs": [
        {
          "output_type": "execute_result",
          "data": {
            "text/plain": [
              "[{'text': 'Goldman Sachs reported net income of $2.5 billion for Q3 2025.',\n",
              "  'entities': [{'start': 0, 'end': 13, 'label': 'ORG'},\n",
              "   {'start': 37, 'end': 49, 'label': 'MONEY'},\n",
              "   {'start': 54, 'end': 61, 'label': 'DATE'}]},\n",
              " {'text': 'On February 14, 2024, Apple Inc. announced a 5% increase in quarterly revenue.',\n",
              "  'entities': [{'start': 3, 'end': 20, 'label': 'DATE'},\n",
              "   {'start': 22, 'end': 32, 'label': 'ORG'},\n",
              "   {'start': 45, 'end': 47, 'label': 'PERCENT'}]},\n",
              " {'text': 'The Federal Reserve raised interest rates by 0.25% on March 22, 2023.',\n",
              "  'entities': [{'start': 0, 'end': 19, 'label': 'ORG'},\n",
              "   {'start': 45, 'end': 50, 'label': 'PERCENT'},\n",
              "   {'start': 54, 'end': 68, 'label': 'DATE'}]},\n",
              " {'text': \"Amazon's stock ticker AMZN rose by 3.4% after the earnings call on July 30, 2025.\",\n",
              "  'entities': [{'start': 0, 'end': 6, 'label': 'ORG'},\n",
              "   {'start': 22, 'end': 26, 'label': 'TICKER'},\n",
              "   {'start': 35, 'end': 39, 'label': 'PERCENT'},\n",
              "   {'start': 67, 'end': 80, 'label': 'DATE'}]},\n",
              " {'text': 'Tesla agreed to acquire SolarCity for $2.6 billion in 2016.',\n",
              "  'entities': [{'start': 0, 'end': 5, 'label': 'ORG'},\n",
              "   {'start': 24, 'end': 33, 'label': 'ORG'},\n",
              "   {'start': 38, 'end': 50, 'label': 'MONEY'},\n",
              "   {'start': 54, 'end': 58, 'label': 'DATE'}]},\n",
              " {'text': 'Morgan Stanley announced a dividend of $0.80 per share payable on December 1, 2025.',\n",
              "  'entities': [{'start': 0, 'end': 14, 'label': 'ORG'},\n",
              "   {'start': 39, 'end': 44, 'label': 'MONEY'},\n",
              "   {'start': 66, 'end': 82, 'label': 'DATE'}]},\n",
              " {'text': 'The merger between Barclays and Lloyds is expected to close by Q1 2026 in London.',\n",
              "  'entities': [{'start': 19, 'end': 27, 'label': 'ORG'},\n",
              "   {'start': 32, 'end': 38, 'label': 'ORG'},\n",
              "   {'start': 63, 'end': 70, 'label': 'DATE'},\n",
              "   {'start': 74, 'end': 80, 'label': 'GPE'}]},\n",
              " {'text': 'Visa reported transaction volume growth of 12% year-over-year in fiscal 2024.',\n",
              "  'entities': [{'start': 0, 'end': 4, 'label': 'ORG'},\n",
              "   {'start': 43, 'end': 46, 'label': 'PERCENT'},\n",
              "   {'start': 65, 'end': 76, 'label': 'DATE'}]},\n",
              " {'text': 'JP Morgan Chase hired Sarah Lee as Head of Wealth Management on 01/10/2025.',\n",
              "  'entities': [{'start': 0, 'end': 15, 'label': 'ORG'},\n",
              "   {'start': 22, 'end': 31, 'label': 'PERSON'},\n",
              "   {'start': 64, 'end': 74, 'label': 'DATE'}]},\n",
              " {'text': 'The company raised $150 million in Series B funding from Sequoia Capital.',\n",
              "  'entities': [{'start': 57, 'end': 72, 'label': 'ORG'},\n",
              "   {'start': 19, 'end': 31, 'label': 'MONEY'},\n",
              "   {'start': 35, 'end': 43, 'label': 'FUNDING'}]},\n",
              " {'text': 'USD/INR hit 83.45 on October 10, 2025 amid market volatility.',\n",
              "  'entities': [{'start': 0, 'end': 7, 'label': 'CURRENCY'},\n",
              "   {'start': 12, 'end': 17, 'label': 'MONEY'},\n",
              "   {'start': 21, 'end': 37, 'label': 'DATE'}]},\n",
              " {'text': 'Alphabet reported revenues of $65.1 billion for the quarter ending September 30, 2025.',\n",
              "  'entities': [{'start': 0, 'end': 8, 'label': 'ORG'},\n",
              "   {'start': 30, 'end': 43, 'label': 'MONEY'},\n",
              "   {'start': 67, 'end': 85, 'label': 'DATE'}]}]"
            ]
          },
          "metadata": {},
          "execution_count": 5
        }
      ]
    },
    {
      "cell_type": "code",
      "source": [
        "for data_item in tqdm(TRAIN_DATA):\n",
        "    text = data_item['text']\n",
        "    annot = data_item['entities']\n",
        "    doc = nlp.make_doc(text)\n",
        "    ents = []\n",
        "    for item in annot:\n",
        "        start = item['start']\n",
        "        end = item['end']\n",
        "        label = item['label']\n",
        "        span = doc.char_span(start, end, label=label, alignment_mode=\"contract\")\n",
        "        if span is None:\n",
        "            print(f\"Skipping entity: '{text[start:end]}' with label '{label}' at offsets [{start}, {end}] in text: '{text}'\")\n",
        "        else:\n",
        "            ents.append(span)\n",
        "    doc.ents = ents\n",
        "    db.add(doc)\n",
        "\n",
        "db.to_disk(\"./training_data.spacy\")"
      ],
      "metadata": {
        "colab": {
          "base_uri": "https://localhost:8080/"
        },
        "id": "WC9k8vfDMiQ5",
        "outputId": "e2fcd00e-a3ae-4b61-8cda-b17b51c8b106"
      },
      "execution_count": 6,
      "outputs": [
        {
          "output_type": "stream",
          "name": "stderr",
          "text": [
            "100%|██████████| 12/12 [00:00<00:00, 1305.48it/s]\n"
          ]
        }
      ]
    },
    {
      "cell_type": "code",
      "source": [
        "! python -m spacy init config config.cfg --lang en --pipeline ner --optimize efficiency"
      ],
      "metadata": {
        "colab": {
          "base_uri": "https://localhost:8080/"
        },
        "id": "yQnG5cEOMnP9",
        "outputId": "eca2578f-b634-49b0-d2f6-f4003507e472"
      },
      "execution_count": 7,
      "outputs": [
        {
          "output_type": "stream",
          "name": "stdout",
          "text": [
            "\u001b[38;5;3m⚠ To generate a more effective transformer-based config (GPU-only),\n",
            "install the spacy-transformers package and re-run this command. The config\n",
            "generated now does not use transformers.\u001b[0m\n",
            "\u001b[38;5;4mℹ Generated config template specific for your use case\u001b[0m\n",
            "- Language: en\n",
            "- Pipeline: ner\n",
            "- Optimize for: efficiency\n",
            "- Hardware: CPU\n",
            "- Transformer: None\n",
            "\u001b[38;5;2m✔ Auto-filled config with all values\u001b[0m\n",
            "\u001b[38;5;2m✔ Saved config\u001b[0m\n",
            "config.cfg\n",
            "You can now add your data and train your pipeline:\n",
            "python -m spacy train config.cfg --paths.train ./train.spacy --paths.dev ./dev.spacy\n"
          ]
        }
      ]
    },
    {
      "cell_type": "code",
      "source": [
        "! python -m spacy train config.cfg --output ./ --paths.train ./training_data.spacy --paths.dev ./training_data.spacy"
      ],
      "metadata": {
        "colab": {
          "base_uri": "https://localhost:8080/"
        },
        "id": "IQPSRV9lM8u4",
        "outputId": "55f05e87-830a-48fd-aeba-4658fa9ffedb"
      },
      "execution_count": 8,
      "outputs": [
        {
          "output_type": "stream",
          "name": "stdout",
          "text": [
            "\u001b[38;5;4mℹ Saving to output directory: .\u001b[0m\n",
            "\u001b[38;5;4mℹ Using CPU\u001b[0m\n",
            "\u001b[1m\n",
            "=========================== Initializing pipeline ===========================\u001b[0m\n",
            "\u001b[38;5;2m✔ Initialized pipeline\u001b[0m\n",
            "\u001b[1m\n",
            "============================= Training pipeline =============================\u001b[0m\n",
            "\u001b[38;5;4mℹ Pipeline: ['tok2vec', 'ner']\u001b[0m\n",
            "\u001b[38;5;4mℹ Initial learn rate: 0.001\u001b[0m\n",
            "E    #       LOSS TOK2VEC  LOSS NER  ENTS_F  ENTS_P  ENTS_R  SCORE \n",
            "---  ------  ------------  --------  ------  ------  ------  ------\n",
            "  0       0          0.00     55.61    0.00    0.00    0.00    0.00\n",
            "100     200         56.98   2306.43  100.00  100.00  100.00    1.00\n",
            "200     400          0.00      0.00  100.00  100.00  100.00    1.00\n",
            "386     600          0.00      0.00  100.00  100.00  100.00    1.00\n",
            "586     800          0.00      0.00  100.00  100.00  100.00    1.00\n",
            "786    1000          0.00      0.00  100.00  100.00  100.00    1.00\n",
            "986    1200          0.00      0.00  100.00  100.00  100.00    1.00\n",
            "1186    1400          0.00      0.00  100.00  100.00  100.00    1.00\n",
            "1386    1600          0.00      0.00  100.00  100.00  100.00    1.00\n",
            "1586    1800          0.00      0.00  100.00  100.00  100.00    1.00\n",
            "\u001b[38;5;2m✔ Saved pipeline to output directory\u001b[0m\n",
            "model-last\n"
          ]
        }
      ]
    },
    {
      "cell_type": "code",
      "source": [
        "nlp_ner = spacy.load(\"/content/model-best\")"
      ],
      "metadata": {
        "id": "0_04eb43NjSA"
      },
      "execution_count": 9,
      "outputs": []
    },
    {
      "cell_type": "code",
      "source": [
        "doc = nlp_ner(\"Market analysts at MorganEast Research, based in Singapore, forecast that the Indian digital lending sector will surpass ₹1.8 lakh crore in transaction volume by 2027, with Aurora capturing approximately 6.4% market share.\")"
      ],
      "metadata": {
        "id": "LBeCchRuNDm2"
      },
      "execution_count": 10,
      "outputs": []
    },
    {
      "cell_type": "code",
      "source": [
        "spacy.displacy.render(doc, style=\"ent\", jupyter=True) # display in Jupyter"
      ],
      "metadata": {
        "colab": {
          "base_uri": "https://localhost:8080/",
          "height": 87
        },
        "id": "wZtZiFxENxKA",
        "outputId": "f33ace79-90f8-4c97-cadd-f9eb8d944df6"
      },
      "execution_count": 11,
      "outputs": [
        {
          "output_type": "display_data",
          "data": {
            "text/plain": [
              "<IPython.core.display.HTML object>"
            ],
            "text/html": [
              "<span class=\"tex2jax_ignore\"><div class=\"entities\" style=\"line-height: 2.5; direction: ltr\">\n",
              "<mark class=\"entity\" style=\"background: #7aecec; padding: 0.45em 0.6em; margin: 0 0.25em; line-height: 1; border-radius: 0.35em;\">\n",
              "    Market\n",
              "    <span style=\"font-size: 0.8em; font-weight: bold; line-height: 1; border-radius: 0.35em; vertical-align: middle; margin-left: 0.5rem\">ORG</span>\n",
              "</mark>\n",
              " analysts at MorganEast \n",
              "<mark class=\"entity\" style=\"background: #bfe1d9; padding: 0.45em 0.6em; margin: 0 0.25em; line-height: 1; border-radius: 0.35em;\">\n",
              "    Research, based\n",
              "    <span style=\"font-size: 0.8em; font-weight: bold; line-height: 1; border-radius: 0.35em; vertical-align: middle; margin-left: 0.5rem\">DATE</span>\n",
              "</mark>\n",
              " in \n",
              "<mark class=\"entity\" style=\"background: #ddd; padding: 0.45em 0.6em; margin: 0 0.25em; line-height: 1; border-radius: 0.35em;\">\n",
              "    Singapore,\n",
              "    <span style=\"font-size: 0.8em; font-weight: bold; line-height: 1; border-radius: 0.35em; vertical-align: middle; margin-left: 0.5rem\">FUNDING</span>\n",
              "</mark>\n",
              " forecast that the \n",
              "<mark class=\"entity\" style=\"background: #7aecec; padding: 0.45em 0.6em; margin: 0 0.25em; line-height: 1; border-radius: 0.35em;\">\n",
              "    Indian\n",
              "    <span style=\"font-size: 0.8em; font-weight: bold; line-height: 1; border-radius: 0.35em; vertical-align: middle; margin-left: 0.5rem\">ORG</span>\n",
              "</mark>\n",
              " digital lending sector will surpass \n",
              "<mark class=\"entity\" style=\"background: #e4e7d2; padding: 0.45em 0.6em; margin: 0 0.25em; line-height: 1; border-radius: 0.35em;\">\n",
              "    ₹1.8\n",
              "    <span style=\"font-size: 0.8em; font-weight: bold; line-height: 1; border-radius: 0.35em; vertical-align: middle; margin-left: 0.5rem\">MONEY</span>\n",
              "</mark>\n",
              " lakh crore in transaction volume by \n",
              "<mark class=\"entity\" style=\"background: #bfe1d9; padding: 0.45em 0.6em; margin: 0 0.25em; line-height: 1; border-radius: 0.35em;\">\n",
              "    2027\n",
              "    <span style=\"font-size: 0.8em; font-weight: bold; line-height: 1; border-radius: 0.35em; vertical-align: middle; margin-left: 0.5rem\">DATE</span>\n",
              "</mark>\n",
              ", with \n",
              "<mark class=\"entity\" style=\"background: #7aecec; padding: 0.45em 0.6em; margin: 0 0.25em; line-height: 1; border-radius: 0.35em;\">\n",
              "    Aurora\n",
              "    <span style=\"font-size: 0.8em; font-weight: bold; line-height: 1; border-radius: 0.35em; vertical-align: middle; margin-left: 0.5rem\">ORG</span>\n",
              "</mark>\n",
              " capturing approximately \n",
              "<mark class=\"entity\" style=\"background: #e4e7d2; padding: 0.45em 0.6em; margin: 0 0.25em; line-height: 1; border-radius: 0.35em;\">\n",
              "    6.4%\n",
              "    <span style=\"font-size: 0.8em; font-weight: bold; line-height: 1; border-radius: 0.35em; vertical-align: middle; margin-left: 0.5rem\">PERCENT</span>\n",
              "</mark>\n",
              " market share.</div></span>"
            ]
          },
          "metadata": {}
        }
      ]
    },
    {
      "cell_type": "code",
      "source": [],
      "metadata": {
        "id": "0bqpbVvvN0wn"
      },
      "execution_count": null,
      "outputs": []
    }
  ]
}