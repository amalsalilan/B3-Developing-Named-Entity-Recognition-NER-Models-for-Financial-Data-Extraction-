{
  "nbformat": 4,
  "nbformat_minor": 0,
  "metadata": {
    "colab": {
      "provenance": [],
      "mount_file_id": "1dedtDmFI8kr5xR4iuOzgIe_sZA0JVyxI",
      "authorship_tag": "ABX9TyNkDpVaAfE7yE4Sp+ma5aWA",
      "include_colab_link": true
    },
    "kernelspec": {
      "name": "python3",
      "display_name": "Python 3"
    },
    "language_info": {
      "name": "python"
    }
  },
  "cells": [
    {
      "cell_type": "markdown",
      "metadata": {
        "id": "view-in-github",
        "colab_type": "text"
      },
      "source": [
        "<a href=\"https://colab.research.google.com/github/amalsalilan/B3-Developing-Named-Entity-Recognition-NER-Models-for-Financial-Data-Extraction-/blob/Sameer/NER_SPRINGBOARD.ipynb\" target=\"_parent\"><img src=\"https://colab.research.google.com/assets/colab-badge.svg\" alt=\"Open In Colab\"/></a>"
      ]
    },
    {
      "cell_type": "code",
      "execution_count": null,
      "metadata": {
        "id": "dHUHWyNUNpPx"
      },
      "outputs": [],
      "source": [
        "!pip install -U spacy -q\n"
      ]
    },
    {
      "cell_type": "code",
      "source": [
        "!python -m spacy info"
      ],
      "metadata": {
        "colab": {
          "base_uri": "https://localhost:8080/"
        },
        "id": "5-B-ZbpoOnfT",
        "outputId": "8c5c1c36-6f6d-447d-f473-6a72fb0a1bee"
      },
      "execution_count": null,
      "outputs": [
        {
          "output_type": "stream",
          "name": "stdout",
          "text": [
            "\u001b[1m\n",
            "============================== Info about spaCy ==============================\u001b[0m\n",
            "\n",
            "spaCy version    3.8.7                         \n",
            "Location         /usr/local/lib/python3.12/dist-packages/spacy\n",
            "Platform         Linux-6.6.105+-x86_64-with-glibc2.35\n",
            "Python version   3.12.12                       \n",
            "Pipelines        en_core_web_sm (3.8.0)        \n",
            "\n"
          ]
        }
      ]
    },
    {
      "cell_type": "code",
      "source": [
        "import spacy\n",
        "from spacy.tokens import DocBin\n",
        "from tqdm import tqdm\n",
        "\n",
        "nlp=spacy.blank(\"en\") #load a new spacy model\n",
        "db=DocBin() #Create a DocBin object"
      ],
      "metadata": {
        "id": "F4m6c5HZPNWX"
      },
      "execution_count": null,
      "outputs": []
    },
    {
      "cell_type": "code",
      "source": [
        "import json\n",
        "f=open('annotations.json')\n",
        "TRAIN_DATA=json.load(f)"
      ],
      "metadata": {
        "id": "-Bne65K_QRWZ"
      },
      "execution_count": null,
      "outputs": []
    },
    {
      "cell_type": "code",
      "source": [
        "for text, annot in tqdm(TRAIN_DATA['annotations']):\n",
        "    doc = nlp.make_doc(text)\n",
        "    ents = []\n",
        "    for start, end, label in annot[\"entities\"]:\n",
        "        span = doc.char_span(start, end, label=label, alignment_mode=\"contract\")\n",
        "        if span is None:\n",
        "            print(\"Skipping entity\")\n",
        "        else:\n",
        "            ents.append(span)\n",
        "    doc.ents = ents\n",
        "    db.add(doc)\n",
        "\n",
        "db.to_disk(\"./annotations.spacy\")"
      ],
      "metadata": {
        "colab": {
          "base_uri": "https://localhost:8080/"
        },
        "id": "VimOQsKvQ8IN",
        "outputId": "a0162a06-ba1d-4a2c-d363-99fe975ccac3"
      },
      "execution_count": null,
      "outputs": [
        {
          "output_type": "stream",
          "name": "stderr",
          "text": [
            "100%|██████████| 2/2 [00:00<00:00, 122.07it/s]\n"
          ]
        }
      ]
    },
    {
      "cell_type": "code",
      "source": [
        "! python -m spacy init config config.cfg --lang en --pipeline ner --optimize efficiency"
      ],
      "metadata": {
        "colab": {
          "base_uri": "https://localhost:8080/"
        },
        "id": "O8u0SwpMSaTm",
        "outputId": "8cf624d4-bf5c-46f6-8ccf-0295da07d25c"
      },
      "execution_count": null,
      "outputs": [
        {
          "output_type": "stream",
          "name": "stdout",
          "text": [
            "\u001b[38;5;3m⚠ To generate a more effective transformer-based config (GPU-only),\n",
            "install the spacy-transformers package and re-run this command. The config\n",
            "generated now does not use transformers.\u001b[0m\n",
            "\u001b[38;5;4mℹ Generated config template specific for your use case\u001b[0m\n",
            "- Language: en\n",
            "- Pipeline: ner\n",
            "- Optimize for: efficiency\n",
            "- Hardware: CPU\n",
            "- Transformer: None\n",
            "\u001b[38;5;2m✔ Auto-filled config with all values\u001b[0m\n",
            "\u001b[38;5;2m✔ Saved config\u001b[0m\n",
            "config.cfg\n",
            "You can now add your data and train your pipeline:\n",
            "python -m spacy train config.cfg --paths.train ./train.spacy --paths.dev ./dev.spacy\n"
          ]
        }
      ]
    },
    {
      "cell_type": "code",
      "source": [
        "\n",
        "! python -m spacy train config.cfg --output ./ --paths.train ./annotations.spacy --paths.dev ./annotations.spacy\n"
      ],
      "metadata": {
        "colab": {
          "base_uri": "https://localhost:8080/"
        },
        "id": "U5AVox6oU-_w",
        "outputId": "bbf39817-74c0-485d-b4e5-506c40310522"
      },
      "execution_count": null,
      "outputs": [
        {
          "output_type": "stream",
          "name": "stdout",
          "text": [
            "\u001b[38;5;4mℹ Saving to output directory: .\u001b[0m\n",
            "\u001b[38;5;4mℹ Using CPU\u001b[0m\n",
            "\u001b[1m\n",
            "=========================== Initializing pipeline ===========================\u001b[0m\n",
            "\u001b[38;5;2m✔ Initialized pipeline\u001b[0m\n",
            "\u001b[1m\n",
            "============================= Training pipeline =============================\u001b[0m\n",
            "\u001b[38;5;4mℹ Pipeline: ['tok2vec', 'ner']\u001b[0m\n",
            "\u001b[38;5;4mℹ Initial learn rate: 0.001\u001b[0m\n",
            "E    #       LOSS TOK2VEC  LOSS NER  ENTS_F  ENTS_P  ENTS_R  SCORE \n",
            "---  ------  ------------  --------  ------  ------  ------  ------\n",
            "  0       0          0.00    181.50    2.44    2.17    2.78    0.02\n",
            "100     200       4491.13   7026.36   56.00  100.00   38.89    0.56\n",
            "200     400        120.26   2845.97   56.00  100.00   38.89    0.56\n",
            "300     600         89.85   2707.12   59.26   88.89   44.44    0.59\n",
            "400     800         81.53   2608.34   56.00  100.00   38.89    0.56\n",
            "500    1000         79.78   2624.71   76.09   62.50   97.22    0.76\n",
            "600    1200         66.67   2558.00   56.00  100.00   38.89    0.56\n",
            "700    1400         69.09   2715.36   56.00  100.00   38.89    0.56\n",
            "800    1600         67.93   2668.63   56.00  100.00   38.89    0.56\n",
            "900    1800         62.55   2647.02   56.00  100.00   38.89    0.56\n",
            "1000    2000         56.35   2637.03   56.00  100.00   38.89    0.56\n",
            "1100    2200         53.59   2630.95   56.00  100.00   38.89    0.56\n",
            "1200    2400         47.53   2489.13   56.00  100.00   38.89    0.56\n",
            "1300    2600         40.67   2535.70   56.00  100.00   38.89    0.56\n",
            "\u001b[38;5;2m✔ Saved pipeline to output directory\u001b[0m\n",
            "model-last\n"
          ]
        }
      ]
    },
    {
      "cell_type": "code",
      "source": [
        "\n",
        "nlp_ner = spacy.load(\"/content/model-best\")"
      ],
      "metadata": {
        "id": "b8-N3tT6Vvr6"
      },
      "execution_count": null,
      "outputs": []
    },
    {
      "cell_type": "code",
      "source": [
        "doc=nlp_ner(''' The cryptocurrency market saw a strong rebound today as Bitcoin climbed past $79,000, marking a 4.6% increase in 24 hours amid renewed optimism over ETF inflows and positive macroeconomic data. Ethereum followed the trend, rising 3.2% to trade near $2,950, while Solana gained 6% as network activity spiked due to new DeFi protocols launching this week.\n",
        "\n",
        "Analysts attribute the bullish sentiment to improving investor confidence and decreasing U.S. Treasury yields, which often drive capital toward risk assets. Meanwhile, the total crypto market capitalization has crossed $3.1 trillion for the first time since mid-2022.\n",
        "In regulatory developments, the European Union announced updated guidelines on stablecoins, emphasizing transparency and reserve backing. Experts believe this could pave the way for institutional adoption across Europe.\n",
        "On the innovation front, Ripple Labs unveiled a new cross-border payment feature integrated with central bank digital currency (CBDC) networks, signaling a step forward for blockchain-based financial infrastructure.\n",
        "Despite the optimism, market watchers warn traders to remain cautious, citing volatility and potential corrections ahead as Bitcoin approaches major resistance near $80,000''')"
      ],
      "metadata": {
        "id": "pQRpVhuXWF-u"
      },
      "execution_count": null,
      "outputs": []
    },
    {
      "cell_type": "code",
      "metadata": {
        "colab": {
          "base_uri": "https://localhost:8080/",
          "height": 612
        },
        "id": "51ebe8e0",
        "outputId": "bfd89181-4081-4ff7-ed36-e25c7e779a22"
      },
      "source": [
        "spacy.displacy.render(doc, style=\"ent\", jupyter=True)"
      ],
      "execution_count": null,
      "outputs": [
        {
          "output_type": "display_data",
          "data": {
            "text/plain": [
              "<IPython.core.display.HTML object>"
            ],
            "text/html": [
              "<span class=\"tex2jax_ignore\"><div class=\"entities\" style=\"line-height: 2.5; direction: ltr\"> The cryptocurrency market saw a strong rebound today as \n",
              "<mark class=\"entity\" style=\"background: #ddd; padding: 0.45em 0.6em; margin: 0 0.25em; line-height: 1; border-radius: 0.35em;\">\n",
              "    Bitcoin\n",
              "    <span style=\"font-size: 0.8em; font-weight: bold; line-height: 1; border-radius: 0.35em; vertical-align: middle; margin-left: 0.5rem\">CRYPTO</span>\n",
              "</mark>\n",
              " climbed past \n",
              "<mark class=\"entity\" style=\"background: #ddd; padding: 0.45em 0.6em; margin: 0 0.25em; line-height: 1; border-radius: 0.35em;\">\n",
              "    $79,000\n",
              "    <span style=\"font-size: 0.8em; font-weight: bold; line-height: 1; border-radius: 0.35em; vertical-align: middle; margin-left: 0.5rem\">VALUE</span>\n",
              "</mark>\n",
              ", marking a \n",
              "<mark class=\"entity\" style=\"background: #ddd; padding: 0.45em 0.6em; margin: 0 0.25em; line-height: 1; border-radius: 0.35em;\">\n",
              "    4.6%\n",
              "    <span style=\"font-size: 0.8em; font-weight: bold; line-height: 1; border-radius: 0.35em; vertical-align: middle; margin-left: 0.5rem\">PERCENTAGE</span>\n",
              "</mark>\n",
              " increase in 24 hours amid renewed optimism over ETF inflows and positive macroeconomic data. \n",
              "<mark class=\"entity\" style=\"background: #ddd; padding: 0.45em 0.6em; margin: 0 0.25em; line-height: 1; border-radius: 0.35em;\">\n",
              "    Ethereum\n",
              "    <span style=\"font-size: 0.8em; font-weight: bold; line-height: 1; border-radius: 0.35em; vertical-align: middle; margin-left: 0.5rem\">CRYPTO</span>\n",
              "</mark>\n",
              " followed the trend, rising \n",
              "<mark class=\"entity\" style=\"background: #ddd; padding: 0.45em 0.6em; margin: 0 0.25em; line-height: 1; border-radius: 0.35em;\">\n",
              "    3.2%\n",
              "    <span style=\"font-size: 0.8em; font-weight: bold; line-height: 1; border-radius: 0.35em; vertical-align: middle; margin-left: 0.5rem\">PERCENTAGE</span>\n",
              "</mark>\n",
              " to trade near \n",
              "<mark class=\"entity\" style=\"background: #ddd; padding: 0.45em 0.6em; margin: 0 0.25em; line-height: 1; border-radius: 0.35em;\">\n",
              "    $2,950\n",
              "    <span style=\"font-size: 0.8em; font-weight: bold; line-height: 1; border-radius: 0.35em; vertical-align: middle; margin-left: 0.5rem\">VALUE</span>\n",
              "</mark>\n",
              ", while Solana gained 6% as network activity spiked due to new DeFi protocols launching this week.<br><br>Analysts attribute the bullish sentiment to improving investor confidence and decreasing U.S. Treasury yields, which often drive capital toward risk assets. Meanwhile, the total crypto market capitalization has crossed \n",
              "<mark class=\"entity\" style=\"background: #ddd; padding: 0.45em 0.6em; margin: 0 0.25em; line-height: 1; border-radius: 0.35em;\">\n",
              "    $3.1\n",
              "    <span style=\"font-size: 0.8em; font-weight: bold; line-height: 1; border-radius: 0.35em; vertical-align: middle; margin-left: 0.5rem\">VALUE</span>\n",
              "</mark>\n",
              " trillion for the first time since mid-2022.<br>In regulatory developments, the European Union announced updated guidelines on stablecoins, emphasizing transparency and reserve backing. Experts believe this could pave the way for institutional adoption across Europe.<br>On the innovation front, Ripple Labs unveiled a new cross-border payment feature integrated with central bank digital currency (CBDC) networks, signaling a step forward for blockchain-based financial infrastructure.<br>Despite the optimism, market watchers warn traders to remain cautious, citing volatility and potential corrections ahead as \n",
              "<mark class=\"entity\" style=\"background: #ddd; padding: 0.45em 0.6em; margin: 0 0.25em; line-height: 1; border-radius: 0.35em;\">\n",
              "    Bitcoin\n",
              "    <span style=\"font-size: 0.8em; font-weight: bold; line-height: 1; border-radius: 0.35em; vertical-align: middle; margin-left: 0.5rem\">CRYPTO</span>\n",
              "</mark>\n",
              " approaches major resistance near \n",
              "<mark class=\"entity\" style=\"background: #ddd; padding: 0.45em 0.6em; margin: 0 0.25em; line-height: 1; border-radius: 0.35em;\">\n",
              "    $80,000\n",
              "    <span style=\"font-size: 0.8em; font-weight: bold; line-height: 1; border-radius: 0.35em; vertical-align: middle; margin-left: 0.5rem\">VALUE</span>\n",
              "</mark>\n",
              "</div></span>"
            ]
          },
          "metadata": {}
        }
      ]
    }
  ]
}