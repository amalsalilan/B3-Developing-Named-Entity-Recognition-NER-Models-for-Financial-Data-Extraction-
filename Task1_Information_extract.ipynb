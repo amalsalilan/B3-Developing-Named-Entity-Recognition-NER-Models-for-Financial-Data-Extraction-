{
  "nbformat": 4,
  "nbformat_minor": 0,
  "metadata": {
    "colab": {
      "provenance": []
    },
    "kernelspec": {
      "name": "python3",
      "display_name": "Python 3"
    },
    "language_info": {
      "name": "python"
    }
  },
  "cells": [
    {
      "cell_type": "code",
      "source": [
        "!pip install pdfplumber pytesseract pdf2image"
      ],
      "metadata": {
        "colab": {
          "base_uri": "https://localhost:8080/"
        },
        "id": "VFwhN2w5UvDL",
        "outputId": "66e5f1e3-4d00-404f-f271-57057c3ed010"
      },
      "execution_count": 39,
      "outputs": [
        {
          "output_type": "stream",
          "name": "stdout",
          "text": [
            "Requirement already satisfied: pdfplumber in /usr/local/lib/python3.12/dist-packages (0.11.7)\n",
            "Requirement already satisfied: pytesseract in /usr/local/lib/python3.12/dist-packages (0.3.13)\n",
            "Requirement already satisfied: pdf2image in /usr/local/lib/python3.12/dist-packages (1.17.0)\n",
            "Requirement already satisfied: pdfminer.six==20250506 in /usr/local/lib/python3.12/dist-packages (from pdfplumber) (20250506)\n",
            "Requirement already satisfied: Pillow>=9.1 in /usr/local/lib/python3.12/dist-packages (from pdfplumber) (11.3.0)\n",
            "Requirement already satisfied: pypdfium2>=4.18.0 in /usr/local/lib/python3.12/dist-packages (from pdfplumber) (4.30.0)\n",
            "Requirement already satisfied: charset-normalizer>=2.0.0 in /usr/local/lib/python3.12/dist-packages (from pdfminer.six==20250506->pdfplumber) (3.4.3)\n",
            "Requirement already satisfied: cryptography>=36.0.0 in /usr/local/lib/python3.12/dist-packages (from pdfminer.six==20250506->pdfplumber) (43.0.3)\n",
            "Requirement already satisfied: packaging>=21.3 in /usr/local/lib/python3.12/dist-packages (from pytesseract) (25.0)\n",
            "Requirement already satisfied: cffi>=1.12 in /usr/local/lib/python3.12/dist-packages (from cryptography>=36.0.0->pdfminer.six==20250506->pdfplumber) (2.0.0)\n",
            "Requirement already satisfied: pycparser in /usr/local/lib/python3.12/dist-packages (from cffi>=1.12->cryptography>=36.0.0->pdfminer.six==20250506->pdfplumber) (2.23)\n"
          ]
        }
      ]
    },
    {
      "cell_type": "code",
      "source": [
        "import re\n",
        "import pdfplumber\n",
        "from pdf2image import convert_from_path\n",
        "import tempfile\n"
      ],
      "metadata": {
        "id": "1mZQhMXDTdHc"
      },
      "execution_count": 40,
      "outputs": []
    },
    {
      "cell_type": "code",
      "source": [
        "def extract_text_from_pdf(pdf_path):\n",
        "    text = \"\"\n",
        "    with pdfplumber.open(pdf_path) as pdf:\n",
        "        for page in pdf.pages:\n",
        "            page_text = page.extract_text()\n",
        "            if page_text:\n",
        "                text += page_text + \"\\n\"\n",
        "    return text.strip()\n"
      ],
      "metadata": {
        "id": "Hr5Kuks-TmSn"
      },
      "execution_count": 41,
      "outputs": []
    },
    {
      "cell_type": "code",
      "source": [
        "def extract_emails(text):\n",
        "    email_pattern = r'[a-zA-Z0-9._%+-]+@[a-zA-Z0-9.-]+\\.[a-z]{2,}'\n",
        "    emails = list(set(re.findall(email_pattern, text)))\n",
        "    return emails if emails else [\"Not found\"]"
      ],
      "metadata": {
        "id": "5M85oVY5T0ux"
      },
      "execution_count": 42,
      "outputs": []
    },
    {
      "cell_type": "code",
      "source": [
        "def extract_phones(text):\n",
        "    # More comprehensive regex for various phone number formats\n",
        "    phone_pattern = r'\\+?\\d{1,3}?[-.\\s]?\\(?\\d{2,4}\\)?[-.\\s]?\\d{3,4}[-.\\s]?\\d{4}|\\(?\\d{3}\\)?[-.\\s]?\\d{3}[-.\\s]?\\d{4}|\\d{10}'\n",
        "    phones = re.findall(phone_pattern, text)\n",
        "    # Join the tuple elements into a string and then strip whitespace if needed (though this regex shouldn't produce tuples)\n",
        "    phones = [p.strip() for p in phones if p.strip()]\n",
        "    return list(set(phones)) if phones else [\"Not found\"]"
      ],
      "metadata": {
        "id": "S10Z-T0LT6vF"
      },
      "execution_count": 43,
      "outputs": []
    },
    {
      "cell_type": "code",
      "source": [
        "def extract_names(text):\n",
        "    # Matches 'Name: John Doe' or capitalized pairs like 'Kalluri Harshitha'\n",
        "    labeled_names = re.findall(r'(?:Name|Full Name)[:\\s]+([A-Z][a-z]+\\s[A-Z][a-z]+)', text)\n",
        "    capitalized_names = re.findall(r'\\b[A-Z][a-z]+\\s[A-Z][a-z]+\\b', text)\n",
        "    names = list(set(labeled_names+capitalized_names))\n",
        "    # Filter out words like \"Phone Number\", \"Email ID\"\n",
        "    names = [n for n in names if \"Email\" not in n and \"Phone\" not in n]\n",
        "    return names if names else [\"Not found\"]\n"
      ],
      "metadata": {
        "id": "3rbQ0VzHUFaa"
      },
      "execution_count": 44,
      "outputs": []
    },
    {
      "cell_type": "code",
      "source": [
        "def extract_info(pdf_path):\n",
        "    text = extract_text_from_pdf(pdf_path)\n",
        "    names = extract_names(text)\n",
        "    emails = extract_emails(text)\n",
        "    phones = extract_phones(text)\n",
        "\n",
        "    return {\"Names\": names, \"Emails\": emails, \"Phones\": phones}"
      ],
      "metadata": {
        "id": "o4vkcVDaUJcO"
      },
      "execution_count": 45,
      "outputs": []
    },
    {
      "cell_type": "code",
      "source": [
        "pdf_path = input(\"Enter PDF file path: \").strip()\n",
        "result = extract_info(pdf_path)\n",
        "\n",
        "print(\"\\nExtracted Information:\")\n",
        "for key, values in result.items():\n",
        "  print(f\"{key}:\")\n",
        "  for val in values:\n",
        "    print(f\"  - {val}\")"
      ],
      "metadata": {
        "colab": {
          "base_uri": "https://localhost:8080/"
        },
        "id": "VQOIvlAeUQ4K",
        "outputId": "97d4f7ff-59dd-46af-aa0e-8d190853afe5"
      },
      "execution_count": 46,
      "outputs": [
        {
          "output_type": "stream",
          "name": "stdout",
          "text": [
            "Enter PDF file path: /content/Forsys_AI_Quarterly_Performance_Report.pdf\n",
            "\n",
            "Extracted Information:\n",
            "Names:\n",
            "  - Executive Team\n",
            "  - Kalluri Harshitha\n",
            "  - Priya\n",
            "Ramesh\n",
            "  - Amal Thomas\n",
            "  - Rajesh Kumar\n",
            "  - Pvt Ltd\n",
            "  - Research\n",
            "Date\n",
            "Emails:\n",
            "  - harshithakalluri0@gmail.com\n",
            "  - amal@forsys.ai\n",
            "  - priya.r@forsys.ai\n",
            "Phones:\n",
            "  - +1 408 555 1223\n",
            "  - +91 309953693\n"
          ]
        }
      ]
    }
  ]
}